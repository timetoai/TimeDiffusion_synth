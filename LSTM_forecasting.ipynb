{
 "cells": [
  {
   "cell_type": "code",
   "execution_count": 1,
   "metadata": {},
   "outputs": [],
   "source": [
    "import numpy as np\n",
    "import pandas as pd\n",
    "\n",
    "from tqdm import tqdm\n",
    "\n",
    "from utils.data import *\n",
    "from utils.metrics import MAPE, WAPE, MAE\n",
    "from utils.dl import *"
   ]
  },
  {
   "cell_type": "code",
   "execution_count": 2,
   "metadata": {},
   "outputs": [],
   "source": [
    "dataset_path = \"data/huge_stock_market_dataset/\""
   ]
  },
  {
   "cell_type": "code",
   "execution_count": 3,
   "metadata": {},
   "outputs": [
    {
     "name": "stdout",
     "output_type": "stream",
     "text": [
      "cuda:0\n"
     ]
    }
   ],
   "source": [
    "device = torch.device('cuda:0' if torch.cuda.is_available() else 'cpu')\n",
    "print(device)\n",
    "\n",
    "lags = 32\n",
    "horizon = 8\n",
    "stride = 1\n",
    "batch_size = 256\n",
    "val_size = 0.15\n",
    "test_size = 0.0\n",
    "drop_last = False\n",
    "features = 1\n",
    "keep_hs = False  # stride == lags\n",
    "epochs = 200\n",
    "verbose = False\n",
    "\n",
    "model_params = {'input_size': features, 'hidden_size': 256, 'num_layers': 2, 'dropout': 0.1, 'output_size': horizon, 'seq_len': lags}"
   ]
  },
  {
   "cell_type": "code",
   "execution_count": 4,
   "metadata": {},
   "outputs": [
    {
     "name": "stderr",
     "output_type": "stream",
     "text": [
      "0it [00:00, ?it/s]Global seed set to 0\n",
      "1it [00:13, 13.86s/it]Global seed set to 0\n",
      "2it [00:27, 13.47s/it]Global seed set to 0\n",
      "3it [00:39, 13.20s/it]Global seed set to 0\n",
      "4it [00:51, 12.51s/it]Global seed set to 0\n",
      "5it [01:00, 11.10s/it]Global seed set to 0\n",
      "6it [01:26, 16.41s/it]Global seed set to 0\n",
      "7it [01:46, 17.49s/it]Global seed set to 0\n",
      "8it [02:08, 18.83s/it]Global seed set to 0\n",
      "9it [02:36, 21.67s/it]Global seed set to 0\n",
      "10it [02:58, 21.95s/it]Global seed set to 0\n",
      "11it [03:40, 28.00s/it]Global seed set to 0\n",
      "12it [04:23, 32.57s/it]Global seed set to 0\n",
      "13it [05:05, 35.42s/it]Global seed set to 0\n",
      "14it [05:42, 35.84s/it]Global seed set to 0\n",
      "15it [06:28, 38.92s/it]Global seed set to 0\n",
      "16it [07:16, 41.81s/it]Global seed set to 0\n",
      "17it [08:12, 46.00s/it]Global seed set to 0\n",
      "18it [09:05, 48.04s/it]Global seed set to 0\n",
      "19it [10:03, 51.17s/it]Global seed set to 0\n",
      "20it [10:59, 52.54s/it]Global seed set to 0\n",
      "21it [14:17, 96.17s/it]Global seed set to 0\n",
      "22it [17:32, 125.98s/it]Global seed set to 0\n",
      "23it [19:24, 121.72s/it]Global seed set to 0\n",
      "24it [20:54, 52.26s/it] \n"
     ]
    }
   ],
   "source": [
    "ts_iterator = get_hsm_dataset(dataset_path, selected_files=f\"{dataset_path}/selected.csv\")\n",
    "\n",
    "results = []\n",
    "for time_series in tqdm(ts_iterator):\n",
    "    train_dl, val_dl, test_dl, X_scaler, y_scaler = create_ts_dl(time_series[[\"Close\"]], time_series[\"Close\"], lags=lags, horizon=horizon, stride=stride,\\\n",
    "                                            batch_size=batch_size, device=device, data_preprocess=(\"log_returns\", \"normalize\"),\\\n",
    "                                            val_size=val_size, test_size=test_size, drop_last=drop_last)\n",
    "    \n",
    "    model = RNNModel(seed=0, device=device)\n",
    "    model.set_model(SimpleLSTM, **model_params)\n",
    "    optim_params = {'params': model.model.parameters(), 'lr': 4e-4}\n",
    "    model.set_optim(torch.optim.AdamW, **optim_params)\n",
    "    model.set_criterion(MAE)\n",
    "\n",
    "    model.train(train_dl, epochs=epochs, print_info=verbose, keep_hs=keep_hs, agg_loss=\"mean\")\n",
    "    results.append({\"train\": model.eval(train_dl, agg_loss=\"mean\"), \"val\": model.eval(val_dl, agg_loss=\"mean\")})\n",
    "\n",
    "    del model, train_dl, val_dl, test_dl\n",
    "    torch.cuda.empty_cache()"
   ]
  },
  {
   "cell_type": "code",
   "execution_count": 5,
   "metadata": {},
   "outputs": [
    {
     "data": {
      "text/plain": [
       "[{'train': 0.2093927264213562, 'val': 0.4945301413536072},\n",
       " {'train': 0.2912781933943431, 'val': 0.7903018593788147},\n",
       " {'train': 0.1181288609902064, 'val': 0.6460710167884827},\n",
       " {'train': 0.1759635110696157, 'val': 0.9245571494102478},\n",
       " {'train': 0.15671958774328232, 'val': 0.7232301235198975},\n",
       " {'train': 0.19305574397246042, 'val': 0.7023540735244751},\n",
       " {'train': 0.3734701365232468, 'val': 1.0341641902923584},\n",
       " {'train': 0.16760402917861938, 'val': 0.611506998538971},\n",
       " {'train': 0.10949812456965446, 'val': 0.7229129374027252},\n",
       " {'train': 0.1449963256716728, 'val': 0.8546842336654663},\n",
       " {'train': 0.11426695850160387, 'val': 0.6326352059841156},\n",
       " {'train': 0.14383798506524828, 'val': 0.43182967603206635},\n",
       " {'train': 0.1573903171552552, 'val': 0.6959636509418488},\n",
       " {'train': 0.20255407691001892, 'val': 0.5029991865158081},\n",
       " {'train': 0.2740155816078186, 'val': 0.45995838940143585},\n",
       " {'train': 0.15424613505601883, 'val': 0.4852403551340103},\n",
       " {'train': 0.200125743042339, 'val': 0.5388805866241455},\n",
       " {'train': 0.17843841829083182, 'val': 0.7158143520355225},\n",
       " {'train': 0.11218761314045299, 'val': 0.8282171487808228},\n",
       " {'train': 0.299474835395813, 'val': 0.4278150647878647},\n",
       " {'train': 0.40123183358656733, 'val': 0.1977280420916421},\n",
       " {'train': 0.555743931978941, 'val': 0.4840056970715523},\n",
       " {'train': 0.19816205747749494, 'val': 1.061844363808632},\n",
       " {'train': 0.28873412624785777, 'val': 0.25356414169073105}]"
      ]
     },
     "execution_count": 5,
     "metadata": {},
     "output_type": "execute_result"
    }
   ],
   "source": [
    "results"
   ]
  },
  {
   "cell_type": "code",
   "execution_count": 6,
   "metadata": {},
   "outputs": [],
   "source": [
    "pd.DataFrame(results).to_csv(\"results\\\\pure_LSTM.csv\", index=False)"
   ]
  },
  {
   "cell_type": "markdown",
   "metadata": {},
   "source": [
    "# Augmentation with QuantGAN synthetic data"
   ]
  },
  {
   "cell_type": "code",
   "execution_count": 6,
   "metadata": {},
   "outputs": [],
   "source": [
    "class CombinedDataLoader:\n",
    "    def __init__(self, *dls):\n",
    "        self.dls = dls\n",
    "\n",
    "    def __len__(self):\n",
    "        return sum(map(len, self.dls))\n",
    "    \n",
    "    def __iter__(self):\n",
    "        for dl in self.dls:\n",
    "            for v in dl:\n",
    "                yield v\n",
    "\n",
    "def train_synth(synthetic_path):\n",
    "    ts_iterator = get_hsm_dataset(dataset_path, selected_files=f\"{dataset_path}/selected.csv\")\n",
    "    epochs = 2\n",
    "\n",
    "    results = []\n",
    "    for ts_index, time_series in tqdm(enumerate(ts_iterator)):\n",
    "        synth_time_series = np.load(f\"{synthetic_path}selected{ts_index}.npy\")\n",
    "        scaler = DimUniversalStandardScaler()\n",
    "        synth_time_series = scaler.fit_transform(synth_time_series)\n",
    "        synth_dls = []\n",
    "        for i in range(synth_time_series.shape[0]):\n",
    "            synth_dl, _, _, X_scaler, y_scaler = create_ts_dl(synth_time_series[i].reshape(- 1, 1), synth_time_series[i].flatten(), lags=lags, horizon=horizon, stride=stride,\\\n",
    "                                                batch_size=batch_size, device=device, data_preprocess=(None,),\\\n",
    "                                                val_size=0, test_size=0, drop_last=drop_last)\n",
    "            synth_dls.append(synth_dl)\n",
    "\n",
    "        train_dl, val_dl, *_ = create_ts_dl(time_series[[\"Close\"]], time_series[\"Close\"], lags=lags, horizon=horizon, stride=stride,\\\n",
    "                                                data_preprocess=(\"log_returns\", \"normalize\"), device=device,\\\n",
    "                                                val_size=val_size, test_size=test_size, batch_size=batch_size, drop_last=drop_last, scaler=scaler)\n",
    "        \n",
    "        model = RNNModel(seed=0, device=device)\n",
    "        model.set_model(SimpleLSTM, **model_params)\n",
    "        optim_params = {'params': model.model.parameters(), 'lr': 4e-4}\n",
    "        model.set_optim(torch.optim.AdamW, **optim_params)\n",
    "        model.set_criterion(MAE)\n",
    "\n",
    "        # cdl = CombinedDataLoader(train_dl, *synth_dls)\n",
    "        # only synth data\n",
    "        cdl = CombinedDataLoader(*synth_dls)\n",
    "        model.train(cdl, epochs=epochs, print_info=verbose, keep_hs=keep_hs, agg_loss=\"mean\")\n",
    "        results.append({\"train\": model.eval(train_dl, agg_loss=\"mean\"), \"val\": model.eval(val_dl, agg_loss=\"mean\")})\n",
    "\n",
    "        del model, train_dl, val_dl, cdl, synth_time_series, synth_dls\n",
    "        torch.cuda.empty_cache()\n",
    "    return results"
   ]
  },
  {
   "cell_type": "code",
   "execution_count": 7,
   "metadata": {},
   "outputs": [
    {
     "name": "stderr",
     "output_type": "stream",
     "text": [
      "0it [00:00, ?it/s]Global seed set to 0\n",
      "1it [00:29, 29.12s/it]Global seed set to 0\n",
      "2it [01:03, 32.16s/it]Global seed set to 0\n",
      "3it [01:36, 32.78s/it]Global seed set to 0\n",
      "4it [02:10, 33.22s/it]Global seed set to 0\n",
      "5it [02:44, 33.28s/it]Global seed set to 0\n",
      "6it [03:17, 33.23s/it]Global seed set to 0\n",
      "7it [03:51, 33.59s/it]Global seed set to 0\n",
      "8it [04:26, 34.11s/it]Global seed set to 0\n",
      "9it [05:02, 34.55s/it]Global seed set to 0\n",
      "10it [05:39, 35.24s/it]Global seed set to 0\n",
      "11it [06:09, 33.84s/it]Global seed set to 0\n",
      "12it [06:47, 34.94s/it]Global seed set to 0\n",
      "13it [07:25, 36.01s/it]Global seed set to 0\n",
      "14it [08:04, 36.97s/it]Global seed set to 0\n",
      "15it [08:42, 37.19s/it]Global seed set to 0\n",
      "16it [09:29, 40.21s/it]Global seed set to 0\n",
      "17it [10:12, 40.81s/it]Global seed set to 0\n",
      "18it [11:07, 45.21s/it]Global seed set to 0\n",
      "19it [11:54, 45.74s/it]Global seed set to 0\n",
      "20it [12:34, 43.92s/it]Global seed set to 0\n",
      "21it [13:12, 42.11s/it]Global seed set to 0\n",
      "22it [13:51, 41.44s/it]Global seed set to 0\n",
      "23it [14:31, 40.83s/it]Global seed set to 0\n",
      "24it [15:10, 37.94s/it]\n"
     ]
    },
    {
     "data": {
      "text/plain": [
       "[{'train': 0.529029980301857, 'val': 0.4295864403247833},\n",
       " {'train': 0.7502809166908264, 'val': 0.9942901730537415},\n",
       " {'train': 0.7397843599319458, 'val': 0.5390610098838806},\n",
       " {'train': 0.677491823832194, 'val': 0.7245516777038574},\n",
       " {'train': 0.6246592700481415, 'val': 0.4809975028038025},\n",
       " {'train': 0.688608705997467, 'val': 0.6462737321853638},\n",
       " {'train': 0.9054366827011109, 'val': 1.0677287578582764},\n",
       " {'train': 0.6930517792701721, 'val': 0.6022903323173523},\n",
       " {'train': 0.7729416688283285, 'val': 0.5567872226238251},\n",
       " {'train': 0.74241042137146, 'val': 0.6309840083122253},\n",
       " {'train': 0.599002523554696, 'val': 0.4397227466106415},\n",
       " {'train': 0.7041731609238518, 'val': 0.3771653026342392},\n",
       " {'train': 0.6540345549583435, 'val': 0.5777110457420349},\n",
       " {'train': 0.7347254678606987, 'val': 0.3960066884756088},\n",
       " {'train': 0.6713309168815613, 'val': 0.36762768030166626},\n",
       " {'train': 0.628097978234291, 'val': 0.38759779930114746},\n",
       " {'train': 0.672879311171445, 'val': 0.4712396562099457},\n",
       " {'train': 0.6358810283920981, 'val': 0.6154693514108658},\n",
       " {'train': 0.7248927517370745, 'val': 0.6601174175739288},\n",
       " {'train': 0.6909009407867085, 'val': 0.4112839996814728},\n",
       " {'train': 0.3024577761166974, 'val': 0.15085280793053762},\n",
       " {'train': 0.5474678717553616, 'val': 0.403550710529089},\n",
       " {'train': 0.7456258548342664, 'val': 0.9048515111207962},\n",
       " {'train': 0.5841237612460789, 'val': 0.2745685763657093}]"
      ]
     },
     "execution_count": 7,
     "metadata": {},
     "output_type": "execute_result"
    }
   ],
   "source": [
    "results = train_synth(synthetic_path = f\"{dataset_path}synthetic/QuantGAN/\")\n",
    "results"
   ]
  },
  {
   "cell_type": "code",
   "execution_count": 8,
   "metadata": {},
   "outputs": [],
   "source": [
    "pd.DataFrame(results).to_csv(\"results\\\\QuantGAN_synth_LSTM.csv\", index=False)"
   ]
  },
  {
   "cell_type": "markdown",
   "metadata": {},
   "source": [
    "# Augmentation with FourierFlow synthetic data"
   ]
  },
  {
   "cell_type": "code",
   "execution_count": 9,
   "metadata": {},
   "outputs": [
    {
     "name": "stderr",
     "output_type": "stream",
     "text": [
      "0it [00:00, ?it/s]Global seed set to 0\n",
      "1it [00:41, 41.66s/it]Global seed set to 0\n",
      "2it [01:21, 40.74s/it]Global seed set to 0\n",
      "3it [02:01, 40.16s/it]Global seed set to 0\n",
      "4it [02:42, 40.57s/it]Global seed set to 0\n",
      "5it [03:21, 40.04s/it]Global seed set to 0\n",
      "6it [04:03, 40.76s/it]Global seed set to 0\n",
      "7it [04:47, 41.73s/it]Global seed set to 0\n",
      "8it [05:29, 41.87s/it]Global seed set to 0\n",
      "9it [06:10, 41.58s/it]Global seed set to 0\n",
      "10it [06:52, 41.83s/it]Global seed set to 0\n",
      "11it [07:35, 42.09s/it]Global seed set to 0\n",
      "12it [08:17, 42.02s/it]Global seed set to 0\n",
      "13it [08:59, 42.14s/it]Global seed set to 0\n",
      "14it [09:42, 42.15s/it]Global seed set to 0\n",
      "15it [10:25, 42.53s/it]Global seed set to 0\n",
      "16it [11:08, 42.66s/it]Global seed set to 0\n",
      "17it [11:51, 42.86s/it]Global seed set to 0\n",
      "18it [12:35, 43.02s/it]Global seed set to 0\n",
      "19it [13:17, 42.77s/it]Global seed set to 0\n",
      "20it [13:59, 42.61s/it]Global seed set to 0\n",
      "21it [14:42, 42.78s/it]Global seed set to 0\n",
      "22it [15:26, 42.98s/it]Global seed set to 0\n",
      "23it [16:10, 43.27s/it]Global seed set to 0\n",
      "24it [16:53, 42.23s/it]\n"
     ]
    },
    {
     "data": {
      "text/plain": [
       "[{'train': 0.1695864275097847, 'val': 0.5021591186523438},\n",
       " {'train': 0.3073609173297882, 'val': 0.848341166973114},\n",
       " {'train': 0.42884289224942523, 'val': 0.4216979742050171},\n",
       " {'train': 0.27960634231567383, 'val': 0.7193499207496643},\n",
       " {'train': 0.2444256991147995, 'val': 0.5797590017318726},\n",
       " {'train': 0.48192890485127765, 'val': 0.6066265106201172},\n",
       " {'train': 0.6226737797260284, 'val': 0.952849805355072},\n",
       " {'train': 0.3543916642665863, 'val': 0.5353056192398071},\n",
       " {'train': 0.5868866840998331, 'val': 0.44092100858688354},\n",
       " {'train': 0.4939054548740387, 'val': 0.5580365657806396},\n",
       " {'train': 0.4318624238173167, 'val': 0.5588903576135635},\n",
       " {'train': 0.4312654733657837, 'val': 0.33545951545238495},\n",
       " {'train': 0.4315921233759986, 'val': 0.5692367106676102},\n",
       " {'train': 0.5169948525726795, 'val': 0.3575713187456131},\n",
       " {'train': 0.5155164271593093, 'val': 0.34426142275333405},\n",
       " {'train': 0.43204981088638306, 'val': 0.38741376996040344},\n",
       " {'train': 0.5291735096411272, 'val': 0.4150277227163315},\n",
       " {'train': 0.4885524132034995, 'val': 0.5417027920484543},\n",
       " {'train': 0.5346463918685913, 'val': 0.6686266660690308},\n",
       " {'train': 0.5313196669925343, 'val': 0.3518361747264862},\n",
       " {'train': 0.42079311373986694, 'val': 0.20412003993988037},\n",
       " {'train': 0.39794997684657574, 'val': 0.30218933522701263},\n",
       " {'train': 0.6490154590295709, 'val': 0.8156239986419678},\n",
       " {'train': 0.40338574114598724, 'val': 0.2335805632174015}]"
      ]
     },
     "execution_count": 9,
     "metadata": {},
     "output_type": "execute_result"
    }
   ],
   "source": [
    "results = train_synth(synthetic_path = f\"{dataset_path}synthetic/FourierFlow/\")\n",
    "results"
   ]
  },
  {
   "cell_type": "code",
   "execution_count": 10,
   "metadata": {},
   "outputs": [],
   "source": [
    "pd.DataFrame(results).to_csv(\"results\\\\FourierFlow_synth_LSTM.csv\", index=False)"
   ]
  },
  {
   "cell_type": "markdown",
   "metadata": {},
   "source": [
    "# Augmentation with RealNVP synthetic data"
   ]
  },
  {
   "cell_type": "code",
   "execution_count": 11,
   "metadata": {},
   "outputs": [
    {
     "name": "stderr",
     "output_type": "stream",
     "text": [
      "0it [00:00, ?it/s]Global seed set to 0\n",
      "1it [00:44, 44.94s/it]Global seed set to 0\n",
      "2it [01:25, 42.61s/it]Global seed set to 0\n",
      "3it [02:05, 41.42s/it]Global seed set to 0\n",
      "4it [02:51, 42.89s/it]Global seed set to 0\n",
      "5it [03:32, 42.25s/it]Global seed set to 0\n",
      "6it [04:16, 42.82s/it]Global seed set to 0\n",
      "7it [05:00, 43.34s/it]Global seed set to 0\n",
      "8it [05:44, 43.49s/it]Global seed set to 0\n",
      "9it [06:26, 42.93s/it]Global seed set to 0\n",
      "10it [07:07, 42.41s/it]Global seed set to 0\n",
      "11it [07:49, 42.37s/it]Global seed set to 0\n",
      "12it [08:32, 42.55s/it]Global seed set to 0\n",
      "13it [09:15, 42.67s/it]Global seed set to 0\n",
      "14it [09:57, 42.57s/it]Global seed set to 0\n",
      "15it [10:41, 42.80s/it]Global seed set to 0\n",
      "16it [11:23, 42.66s/it]Global seed set to 0\n",
      "17it [12:06, 42.88s/it]Global seed set to 0\n",
      "18it [12:50, 43.06s/it]Global seed set to 0\n",
      "19it [13:32, 42.86s/it]Global seed set to 0\n",
      "20it [14:14, 42.64s/it]Global seed set to 0\n",
      "21it [14:58, 43.03s/it]Global seed set to 0\n",
      "22it [15:41, 43.00s/it]Global seed set to 0\n",
      "23it [16:25, 43.16s/it]Global seed set to 0\n",
      "24it [17:08, 42.87s/it]\n"
     ]
    },
    {
     "data": {
      "text/plain": [
       "[{'train': 0.06016901321709156, 'val': 0.562834620475769},\n",
       " {'train': 0.10256207485993703, 'val': 0.8074387311935425},\n",
       " {'train': 0.08573681116104126, 'val': 0.47008198499679565},\n",
       " {'train': 0.032542445386449494, 'val': 0.17352734506130219},\n",
       " {'train': 0.09536992758512497, 'val': 0.5945321321487427},\n",
       " {'train': 0.15892924865086874, 'val': 0.7092251777648926},\n",
       " {'train': 0.5627781212329864, 'val': 1.1119112968444824},\n",
       " {'train': 0.1066171333193779, 'val': 0.6048071384429932},\n",
       " {'train': 0.14888939758141836, 'val': 0.6328030824661255},\n",
       " {'train': 0.14658241271972655, 'val': 0.7578617334365845},\n",
       " {'train': 0.19719011419349247, 'val': 0.5948812663555145},\n",
       " {'train': 0.2471605572435591, 'val': 0.39896664023399353},\n",
       " {'train': 0.2831754783789317, 'val': 0.6197924911975861},\n",
       " {'train': 0.26914674043655396, 'val': 0.45424945652484894},\n",
       " {'train': 0.395182329416275, 'val': 0.39152607321739197},\n",
       " {'train': 0.2853864967823029, 'val': 0.4072388857603073},\n",
       " {'train': 0.4600316042249853, 'val': 0.45106759667396545},\n",
       " {'train': 0.38308605551719666, 'val': 0.640452966094017},\n",
       " {'train': 0.25878186930309643, 'val': 0.7626233696937561},\n",
       " {'train': 0.4349529797380621, 'val': 0.4067842811346054},\n",
       " {'train': 0.3924808129668236, 'val': 0.19333127353872573},\n",
       " {'train': 0.5852152556180954, 'val': 0.4540792554616928},\n",
       " {'train': 0.5584775792515796, 'val': 0.7354495376348495},\n",
       " {'train': 0.40321270101948786, 'val': 0.2397793084383011}]"
      ]
     },
     "execution_count": 11,
     "metadata": {},
     "output_type": "execute_result"
    }
   ],
   "source": [
    "results = train_synth(synthetic_path = f\"{dataset_path}synthetic/RealNVP/\")\n",
    "results"
   ]
  },
  {
   "cell_type": "code",
   "execution_count": 12,
   "metadata": {},
   "outputs": [],
   "source": [
    "pd.DataFrame(results).to_csv(\"results\\\\RealNVP_synth_LSTM.csv\", index=False)"
   ]
  },
  {
   "cell_type": "markdown",
   "metadata": {},
   "source": [
    "# Augmentation with TTS GAN synthetic data"
   ]
  },
  {
   "cell_type": "code",
   "execution_count": 13,
   "metadata": {},
   "outputs": [
    {
     "name": "stderr",
     "output_type": "stream",
     "text": [
      "0it [00:00, ?it/s]Global seed set to 0\n",
      "1it [00:42, 42.16s/it]Global seed set to 0\n",
      "2it [01:22, 40.99s/it]Global seed set to 0\n",
      "3it [02:02, 40.54s/it]Global seed set to 0\n",
      "4it [02:41, 40.19s/it]Global seed set to 0\n",
      "5it [03:22, 40.28s/it]Global seed set to 0\n",
      "6it [04:00, 39.61s/it]Global seed set to 0\n",
      "7it [04:39, 39.22s/it]Global seed set to 0\n",
      "8it [05:18, 39.15s/it]Global seed set to 0\n",
      "9it [06:00, 40.23s/it]Global seed set to 0\n",
      "10it [06:41, 40.29s/it]Global seed set to 0\n",
      "11it [07:23, 40.99s/it]Global seed set to 0\n",
      "12it [08:03, 40.65s/it]Global seed set to 0\n",
      "13it [08:43, 40.47s/it]Global seed set to 0\n",
      "14it [09:23, 40.32s/it]Global seed set to 0\n",
      "15it [10:02, 39.92s/it]Global seed set to 0\n",
      "16it [10:40, 39.28s/it]Global seed set to 0\n",
      "17it [11:19, 39.18s/it]Global seed set to 0\n",
      "18it [11:59, 39.51s/it]Global seed set to 0\n",
      "19it [12:38, 39.33s/it]Global seed set to 0\n",
      "20it [13:19, 39.93s/it]Global seed set to 0\n",
      "21it [14:00, 40.01s/it]Global seed set to 0\n",
      "22it [14:39, 39.95s/it]Global seed set to 0\n",
      "23it [15:20, 40.05s/it]Global seed set to 0\n",
      "24it [15:57, 39.89s/it]\n"
     ]
    },
    {
     "data": {
      "text/plain": [
       "[{'train': 0.4881722182035446, 'val': 0.4607003331184387},\n",
       " {'train': 0.5572996139526367, 'val': 0.713964581489563},\n",
       " {'train': 0.18673823277155557, 'val': 0.14936329424381256},\n",
       " {'train': 0.1340605616569519, 'val': 0.14297246932983398},\n",
       " {'train': 0.25738203525543213, 'val': 0.25669431686401367},\n",
       " {'train': 0.8873999913533529, 'val': 0.8323074579238892},\n",
       " {'train': 0.7527846217155456, 'val': 0.8888095021247864},\n",
       " {'train': 0.9714203715324402, 'val': 0.8423780798912048},\n",
       " {'train': 0.3020841255784035, 'val': 0.21439193934202194},\n",
       " {'train': 0.36037432551383974, 'val': 0.3117588460445404},\n",
       " {'train': 1.0998954508039687, 'val': 0.8056656122207642},\n",
       " {'train': 0.8524727953804864, 'val': 0.4568272829055786},\n",
       " {'train': 0.7585266431172689, 'val': 0.6735197305679321},\n",
       " {'train': 0.7814048007130623, 'val': 0.4345851391553879},\n",
       " {'train': 0.8811773717403412, 'val': 0.48122061789035797},\n",
       " {'train': 0.7701827824115753, 'val': 0.4704471677541733},\n",
       " {'train': 0.8866960243745283, 'val': 0.6265732049942017},\n",
       " {'train': 0.5232344161380421, 'val': 0.5022743940353394},\n",
       " {'train': 2.1427476514469492, 'val': 1.9626725912094116},\n",
       " {'train': 0.7148677164858038, 'val': 0.42457304894924164},\n",
       " {'train': 0.3793652175288451, 'val': 0.3793652781418392},\n",
       " {'train': 1.3240517511963845, 'val': 1.0014594569802284},\n",
       " {'train': 2.654045421144237, 'val': 3.164533853530884},\n",
       " {'train': 1.2771094017907192, 'val': 0.5899904817342758}]"
      ]
     },
     "execution_count": 13,
     "metadata": {},
     "output_type": "execute_result"
    }
   ],
   "source": [
    "results = train_synth(synthetic_path = f\"{dataset_path}synthetic/TTS_GAN_standard/\")\n",
    "results"
   ]
  },
  {
   "cell_type": "code",
   "execution_count": 14,
   "metadata": {},
   "outputs": [],
   "source": [
    "pd.DataFrame(results).to_csv(\"results\\\\TTS_GAN_synth_LSTM.csv\", index=False)"
   ]
  },
  {
   "cell_type": "code",
   "execution_count": null,
   "metadata": {},
   "outputs": [],
   "source": []
  }
 ],
 "metadata": {
  "kernelspec": {
   "display_name": "Python 3.8.9 64-bit (system)",
   "language": "python",
   "name": "python3"
  },
  "language_info": {
   "codemirror_mode": {
    "name": "ipython",
    "version": 3
   },
   "file_extension": ".py",
   "mimetype": "text/x-python",
   "name": "python",
   "nbconvert_exporter": "python",
   "pygments_lexer": "ipython3",
   "version": "3.8.9"
  },
  "orig_nbformat": 4,
  "vscode": {
   "interpreter": {
    "hash": "1289e797c8b2364a1b561fc46768e8fcf8446b2e18e77ab0795c8743ff6ac10a"
   }
  }
 },
 "nbformat": 4,
 "nbformat_minor": 2
}
