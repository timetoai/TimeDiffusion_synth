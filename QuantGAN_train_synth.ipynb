{
 "cells": [
  {
   "cell_type": "code",
   "execution_count": 1,
   "metadata": {},
   "outputs": [],
   "source": [
    "import numpy as np\n",
    "import pandas as pd\n",
    "\n",
    "from sklearn.preprocessing import StandardScaler\n",
    "\n",
    "from tqdm import tqdm\n",
    "\n",
    "import torch\n",
    "\n",
    "from utils.data import get_hsm_dataset, split_data\n",
    "from utils.metrics import MAPE, WAPE, MAE\n",
    "from utils.dl import QuantGAN_Discriminator, QuantGAN_Generator\n",
    "from utils.QuantGAN_gaussianize import Gaussianize"
   ]
  },
  {
   "cell_type": "code",
   "execution_count": 2,
   "metadata": {},
   "outputs": [],
   "source": [
    "dataset_path = \"data/huge_stock_market_dataset/\"\n",
    "synthetic_path = f\"{dataset_path}synthetic/QuantGAN/\"\n",
    "models_dir = \"models/\""
   ]
  },
  {
   "cell_type": "code",
   "execution_count": 3,
   "metadata": {},
   "outputs": [
    {
     "name": "stdout",
     "output_type": "stream",
     "text": [
      "cuda:0\n"
     ]
    }
   ],
   "source": [
    "device = torch.device('cuda:0' if torch.cuda.is_available() else 'cpu')\n",
    "print(device)\n",
    "\n",
    "val_size = 0.0\n",
    "test_size = 0.3\n",
    "batches_to_gen = 20\n",
    "\n",
    "num_epochs = 100\n",
    "nz = 3\n",
    "batch_size = 80\n",
    "seq_len = 127\n",
    "clip = 0.01\n",
    "lr = 0.0002\n",
    "receptive_field_size = 127"
   ]
  },
  {
   "cell_type": "code",
   "execution_count": 4,
   "metadata": {},
   "outputs": [],
   "source": [
    "class Loader32(torch.utils.data.Dataset):\n",
    "    def __init__(self, data, length):\n",
    "        assert len(data) >= length\n",
    "        self.data = data\n",
    "        self.length = length\n",
    "    \n",
    "    def __getitem__(self, idx):\n",
    "        return torch.tensor(self.data[idx:idx+self.length]).reshape(- 1, self.length).to(torch.float32)\n",
    "        \n",
    "    def __len__(self):\n",
    "        return max(len(self.data)-self.length, 0)"
   ]
  },
  {
   "cell_type": "code",
   "execution_count": 5,
   "metadata": {},
   "outputs": [],
   "source": [
    "def model_routine(time_series, ts_index):\n",
    "    global val_size, test_size, batches_to_gen, num_epochs, nz, batch_size, seq_len, clip, lr, receptive_field_size\n",
    "    #  using only train set to generate new samples\n",
    "    (train_ts, *_), *_ = split_data(time_series, val_size=val_size, test_size=test_size)\n",
    "    \n",
    "    # preprocessing steps according to the QuanGAN paper\n",
    "    df = train_ts\n",
    "    returns = df.shift(1) / df - 1\n",
    "    log_returns = np.log(df / df.shift(1))[1:].to_numpy().reshape(- 1, 1)\n",
    "    standardScaler1 = StandardScaler()\n",
    "    standardScaler2 = StandardScaler()\n",
    "    gaussianize = Gaussianize()\n",
    "    log_returns_preprocessed = standardScaler2.fit_transform(gaussianize.fit_transform(standardScaler1.fit_transform(log_returns)))\n",
    "    data_size = log_returns.shape[0]\n",
    "\n",
    "    # defining models and optimizers\n",
    "    generator = QuantGAN_Generator().to(device)\n",
    "    discriminator = QuantGAN_Discriminator(seq_len).to(device)\n",
    "    disc_optimizer = torch.optim.RMSprop(discriminator.parameters(), lr=lr)\n",
    "    gen_optimizer = torch.optim.RMSprop(generator.parameters(), lr=lr)\n",
    "\n",
    "    # data preparing\n",
    "    dataset = Loader32(log_returns_preprocessed, 127)\n",
    "    dataloader = torch.utils.data.DataLoader(dataset, batch_size=batch_size)\n",
    "    \n",
    "    t = tqdm(range(num_epochs))\n",
    "    for epoch in t:\n",
    "        for idx, data in enumerate(dataloader, 0):\n",
    "\n",
    "            discriminator.zero_grad()\n",
    "            real = data.to(device)\n",
    "            batch_size, seq_len = real.size(0), real.size(2)\n",
    "            noise = torch.randn(batch_size, nz, seq_len, device=device)\n",
    "            fake = generator(noise).detach()\n",
    "            disc_loss = - torch.mean(discriminator(real)) + torch.mean(discriminator(fake))\n",
    "            disc_loss.backward()\n",
    "            disc_optimizer.step()\n",
    "\n",
    "            for dp in discriminator.parameters():\n",
    "                dp.data.clamp_(-clip, clip)\n",
    "    \n",
    "            if idx % 5 == 0:\n",
    "                generator.zero_grad()\n",
    "                gen_loss = - torch.mean(discriminator(generator(noise)))\n",
    "                gen_loss.backward()\n",
    "                gen_optimizer.step()\n",
    "        t.set_description('Discriminator Loss: %.8f Generator Loss: %.8f' % (disc_loss.item(), gen_loss.item()))\n",
    "    # saving model\n",
    "    torch.save(generator, models_dir +  f'QuantGAN_generator_selected{ts_index}.pth')\n",
    "\n",
    "    # generation synthetic time series\n",
    "    generator.eval()\n",
    "    ys = []\n",
    "    for _ in range(batches_to_gen):\n",
    "        with torch.no_grad():\n",
    "            noise = torch.randn(80, 3, 127).to(device)\n",
    "            y = generator(noise).cpu().detach().squeeze()\n",
    "\n",
    "        y = (y - y.mean(axis=0)) / y.std(axis=0)\n",
    "        y = standardScaler2.inverse_transform(y)\n",
    "        y = np.array([gaussianize.inverse_transform(np.expand_dims(x, 1)) for x in y]).squeeze()\n",
    "        y = standardScaler1.inverse_transform(y)\n",
    "\n",
    "        # some basic filtering to redue the tendency of GAN to produce extreme returns\n",
    "        y = y[(y.max(axis=1) <= 2 * log_returns.max()) & (y.min(axis=1) >= 2 * log_returns.min())]\n",
    "        y -= y.mean()\n",
    "        ys.append(y)\n",
    "\n",
    "    np.save(synthetic_path + f\"selected{ts_index}.npy\", np.row_stack(ys))\n",
    "\n",
    "    del discriminator, generator, disc_loss, gen_loss, dataloader, dataset, y\n",
    "    torch.cuda.empty_cache()"
   ]
  },
  {
   "cell_type": "code",
   "execution_count": 6,
   "metadata": {},
   "outputs": [
    {
     "name": "stdout",
     "output_type": "stream",
     "text": [
      "Time Series #22\n"
     ]
    },
    {
     "name": "stderr",
     "output_type": "stream",
     "text": [
      "Discriminator Loss: 0.00000012 Generator Loss: -0.50113839: 100%|██████████| 100/100 [05:19<00:00,  3.20s/it]\n"
     ]
    },
    {
     "name": "stdout",
     "output_type": "stream",
     "text": [
      "Time Series #23\n"
     ]
    },
    {
     "name": "stderr",
     "output_type": "stream",
     "text": [
      "Discriminator Loss: 0.00000021 Generator Loss: -0.49835110: 100%|██████████| 100/100 [04:44<00:00,  2.85s/it]\n"
     ]
    }
   ],
   "source": [
    "ts_iterator = get_hsm_dataset(dataset_path, selected_files=f\"{dataset_path}/selected.csv\")\n",
    "start_point = 22\n",
    "for _ in range(start_point): next(ts_iterator)\n",
    "\n",
    "for ts_index, time_series in enumerate(ts_iterator, start_point):\n",
    "    print(f\"Time Series #{ts_index}\")\n",
    "    model_routine(time_series, ts_index)"
   ]
  },
  {
   "cell_type": "markdown",
   "metadata": {},
   "source": [
    "# Similarity"
   ]
  },
  {
   "cell_type": "code",
   "execution_count": 3,
   "metadata": {},
   "outputs": [],
   "source": [
    "from tqdm import tqdm\n",
    "from pathlib import Path\n",
    "\n",
    "import numpy as np\n",
    "import pandas as pd\n",
    "from scipy.special import kl_div\n",
    "\n",
    "from utils.data import get_hsm_dataset, split_data, log_returns"
   ]
  },
  {
   "cell_type": "code",
   "execution_count": 4,
   "metadata": {},
   "outputs": [],
   "source": [
    "dataset_path = Path(\"data/huge_stock_market_dataset/\")\n",
    "results_dir = Path(\"results\")\n",
    "\n",
    "val_size = 0.0\n",
    "test_size = 0.3\n",
    "seq_len = 127\n",
    "\n",
    "sj_div = lambda x, y: (kl_div(x, (x + y) / 2) + kl_div(y, (x + y) / 2)) / 2\n",
    "min_max_norm = lambda x: (x - x.min()) / (x.max() - x.min())"
   ]
  },
  {
   "cell_type": "code",
   "execution_count": 8,
   "metadata": {},
   "outputs": [
    {
     "name": "stderr",
     "output_type": "stream",
     "text": [
      "100%|██████████| 1290/1290 [00:09<00:00, 132.65it/s]\n",
      "100%|██████████| 1600/1600 [00:30<00:00, 52.02it/s]\n",
      "100%|██████████| 1343/1343 [00:25<00:00, 52.70it/s]\n",
      "100%|██████████| 1581/1581 [00:24<00:00, 63.43it/s]\n",
      "100%|██████████| 1545/1545 [00:17<00:00, 87.78it/s]\n",
      "100%|██████████| 1575/1575 [01:02<00:00, 25.06it/s]\n",
      "100%|██████████| 1563/1563 [00:42<00:00, 36.48it/s]\n",
      "100%|██████████| 1501/1501 [00:47<00:00, 31.49it/s]\n",
      "100%|██████████| 1599/1599 [01:09<00:00, 22.91it/s]\n",
      "100%|██████████| 1599/1599 [00:54<00:00, 29.17it/s]\n",
      "100%|██████████| 1208/1208 [01:18<00:00, 15.45it/s]\n",
      "100%|██████████| 1598/1598 [01:45<00:00, 15.09it/s]\n",
      "100%|██████████| 1592/1592 [01:42<00:00, 15.47it/s]\n",
      "100%|██████████| 1564/1564 [01:27<00:00, 17.81it/s]\n",
      "100%|██████████| 1589/1589 [01:52<00:00, 14.07it/s]\n",
      "100%|██████████| 1588/1588 [01:59<00:00, 13.32it/s]\n",
      "100%|██████████| 1594/1594 [02:07<00:00, 12.55it/s]\n",
      "100%|██████████| 1597/1597 [02:03<00:00, 12.89it/s]\n",
      "100%|██████████| 1596/1596 [02:07<00:00, 12.54it/s]\n",
      "100%|██████████| 1591/1591 [02:08<00:00, 12.36it/s]\n",
      "100%|██████████| 1204/1204 [05:44<00:00,  3.50it/s]\n",
      "100%|██████████| 1600/1600 [08:45<00:00,  3.04it/s]\n",
      "100%|██████████| 1600/1600 [04:55<00:00,  5.41it/s]\n",
      "100%|██████████| 1599/1599 [03:52<00:00,  6.87it/s]\n",
      "                        \r"
     ]
    }
   ],
   "source": [
    "for model in (\"QuantGAN\",):\n",
    "    synthetic_path = dataset_path / f\"synthetic/{model}/\"\n",
    "    results = {\"kl_div\": [], \"sj_div\": []}\n",
    "    ts_iterator = get_hsm_dataset(dataset_path, selected_files=f\"{dataset_path}/selected.csv\")\n",
    "\n",
    "    for ts_index, time_series in tqdm(enumerate(ts_iterator), leave=False):\n",
    "        (train_ts, *_), *_ = split_data(time_series, val_size=val_size, test_size=test_size)\n",
    "        train_ts = log_returns(train_ts).values.flatten()\n",
    "        train_ts = min_max_norm(train_ts)\n",
    "        train_tss = [train_ts[i: i + seq_len] for i in range(len(train_ts) - seq_len + 1)]\n",
    "        \n",
    "        synth_tss = np.load(synthetic_path / f\"selected{ts_index}.npy\")\n",
    "        kl_div_res = sj_div_res = 0\n",
    "        for synth_ts in tqdm(synth_tss):\n",
    "            synth_ts = min_max_norm(synth_ts)\n",
    "            for train_ts in train_tss:\n",
    "                res = kl_div(synth_ts, train_ts)\n",
    "                kl_div_res += np.where(np.isinf(res), 0, res).mean()\n",
    "                sj_div_res += sj_div(synth_ts, train_ts).mean()\n",
    "        results[\"kl_div\"].append(kl_div_res / len(synth_tss) / len(train_tss))\n",
    "        results[\"sj_div\"].append(sj_div_res / len(synth_tss) / len(train_tss))\n",
    "    \n",
    "    pd.DataFrame(results).to_csv(results_dir / f\"synth_sim_{model}.csv\", index=False)"
   ]
  },
  {
   "cell_type": "code",
   "execution_count": null,
   "metadata": {},
   "outputs": [],
   "source": []
  }
 ],
 "metadata": {
  "kernelspec": {
   "display_name": "Python 3.8.9 64-bit (system)",
   "language": "python",
   "name": "python3"
  },
  "language_info": {
   "codemirror_mode": {
    "name": "ipython",
    "version": 3
   },
   "file_extension": ".py",
   "mimetype": "text/x-python",
   "name": "python",
   "nbconvert_exporter": "python",
   "pygments_lexer": "ipython3",
   "version": "3.8.9"
  },
  "orig_nbformat": 4,
  "vscode": {
   "interpreter": {
    "hash": "1289e797c8b2364a1b561fc46768e8fcf8446b2e18e77ab0795c8743ff6ac10a"
   }
  }
 },
 "nbformat": 4,
 "nbformat_minor": 2
}
