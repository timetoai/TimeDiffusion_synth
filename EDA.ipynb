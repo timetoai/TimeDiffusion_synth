{
 "cells": [
  {
   "cell_type": "code",
   "execution_count": 1,
   "metadata": {},
   "outputs": [],
   "source": [
    "import numpy as np\n",
    "import pandas as pd\n",
    "\n",
    "from tqdm import tqdm\n",
    "from pathlib import Path\n",
    "\n",
    "from utils.data import get_hsm_dataset, get_solar_energy_dataset"
   ]
  },
  {
   "cell_type": "markdown",
   "metadata": {},
   "source": [
    "Removing empty files"
   ]
  },
  {
   "cell_type": "code",
   "execution_count": 4,
   "metadata": {},
   "outputs": [],
   "source": [
    "for subfolder in Path(\"data/huge_stock_market_dataset\").iterdir():\n",
    "    if subfolder.is_dir():\n",
    "        if subfolder.name == \"synthetic\": continue\n",
    "        for file in subfolder.iterdir():\n",
    "            if file.stat().st_size == 0:\n",
    "                print(file)\n",
    "                file.unlink()"
   ]
  },
  {
   "cell_type": "code",
   "execution_count": 5,
   "metadata": {},
   "outputs": [
    {
     "name": "stderr",
     "output_type": "stream",
     "text": [
      "1344it [00:13, 98.92it/s] \n",
      "7163it [01:08, 103.87it/s]\n"
     ]
    }
   ],
   "source": [
    "properties = {\"filename\": [], \"length\": [], \"uptrending_rate\": []}\n",
    "for subfolder in Path(\"data/huge_stock_market_dataset\").iterdir():\n",
    "    if subfolder.is_dir():\n",
    "        if subfolder.name == \"synthetic\": continue\n",
    "        for file in tqdm(subfolder.iterdir()):\n",
    "            ts = pd.read_csv(file, usecols=[\"Close\"])\n",
    "            properties[\"filename\"].append(file.name)\n",
    "            properties[\"length\"].append(len(ts))\n",
    "            properties[\"uptrending_rate\"].append((ts.Close.diff(1).dropna() > 0).mean())\n",
    "properties = pd.DataFrame(properties)"
   ]
  },
  {
   "cell_type": "code",
   "execution_count": 6,
   "metadata": {},
   "outputs": [
    {
     "data": {
      "text/plain": [
       "<AxesSubplot:>"
      ]
     },
     "execution_count": 6,
     "metadata": {},
     "output_type": "execute_result"
    },
    {
     "data": {
      "image/png": "[encoded data removed]",
      "text/plain": [
       "<Figure size 432x288 with 1 Axes>"
      ]
     },
     "metadata": {
      "needs_background": "light"
     },
     "output_type": "display_data"
    }
   ],
   "source": [
    "properties.length.hist()"
   ]
  },
  {
   "cell_type": "code",
   "execution_count": 7,
   "metadata": {},
   "outputs": [
    {
     "data": {
      "text/plain": [
       "<AxesSubplot:>"
      ]
     },
     "execution_count": 7,
     "metadata": {},
     "output_type": "execute_result"
    },
    {
     "data": {
      "image/png": "[encoded data removed]",
      "text/plain": [
       "<Figure size 432x288 with 1 Axes>"
      ]
     },
     "metadata": {
      "needs_background": "light"
     },
     "output_type": "display_data"
    }
   ],
   "source": [
    "properties.uptrending_rate.hist()"
   ]
  },
  {
   "cell_type": "code",
   "execution_count": 8,
   "metadata": {},
   "outputs": [
    {
     "data": {
      "text/plain": [
       "<AxesSubplot:>"
      ]
     },
     "execution_count": 8,
     "metadata": {},
     "output_type": "execute_result"
    },
    {
     "data": {
      "image/png": "[encoded data removed]",
      "text/plain": [
       "<Figure size 432x288 with 1 Axes>"
      ]
     },
     "metadata": {
      "needs_background": "light"
     },
     "output_type": "display_data"
    }
   ],
   "source": [
    "properties[properties.length > 365].uptrending_rate.hist()"
   ]
  },
  {
   "cell_type": "code",
   "execution_count": 9,
   "metadata": {},
   "outputs": [
    {
     "data": {
      "text/html": [
       "<div>\n",
       "<style scoped>\n",
       "    .dataframe tbody tr th:only-of-type {\n",
       "        vertical-align: middle;\n",
       "    }\n",
       "\n",
       "    .dataframe tbody tr th {\n",
       "        vertical-align: top;\n",
       "    }\n",
       "\n",
       "    .dataframe thead th {\n",
       "        text-align: right;\n",
       "    }\n",
       "</style>\n",
       "<table border=\"1\" class=\"dataframe\">\n",
       "  <thead>\n",
       "    <tr style=\"text-align: right;\">\n",
       "      <th></th>\n",
       "      <th>filename</th>\n",
       "      <th>length</th>\n",
       "      <th>uptrending_rate</th>\n",
       "    </tr>\n",
       "  </thead>\n",
       "  <tbody>\n",
       "    <tr>\n",
       "      <th>0</th>\n",
       "      <td>aadr.us.txt</td>\n",
       "      <td>1565</td>\n",
       "      <td>0.521739</td>\n",
       "    </tr>\n",
       "    <tr>\n",
       "      <th>1</th>\n",
       "      <td>aaxj.us.txt</td>\n",
       "      <td>2325</td>\n",
       "      <td>0.527108</td>\n",
       "    </tr>\n",
       "    <tr>\n",
       "      <th>2</th>\n",
       "      <td>acim.us.txt</td>\n",
       "      <td>1232</td>\n",
       "      <td>0.529651</td>\n",
       "    </tr>\n",
       "    <tr>\n",
       "      <th>3</th>\n",
       "      <td>actx.us.txt</td>\n",
       "      <td>272</td>\n",
       "      <td>0.505535</td>\n",
       "    </tr>\n",
       "    <tr>\n",
       "      <th>4</th>\n",
       "      <td>acwf.us.txt</td>\n",
       "      <td>403</td>\n",
       "      <td>0.509950</td>\n",
       "    </tr>\n",
       "    <tr>\n",
       "      <th>...</th>\n",
       "      <td>...</td>\n",
       "      <td>...</td>\n",
       "      <td>...</td>\n",
       "    </tr>\n",
       "    <tr>\n",
       "      <th>8502</th>\n",
       "      <td>zumz.us.txt</td>\n",
       "      <td>3153</td>\n",
       "      <td>0.502855</td>\n",
       "    </tr>\n",
       "    <tr>\n",
       "      <th>8503</th>\n",
       "      <td>zvv.us.txt</td>\n",
       "      <td>5</td>\n",
       "      <td>0.250000</td>\n",
       "    </tr>\n",
       "    <tr>\n",
       "      <th>8504</th>\n",
       "      <td>zx.us.txt</td>\n",
       "      <td>1620</td>\n",
       "      <td>0.420012</td>\n",
       "    </tr>\n",
       "    <tr>\n",
       "      <th>8505</th>\n",
       "      <td>zyme.us.txt</td>\n",
       "      <td>138</td>\n",
       "      <td>0.394161</td>\n",
       "    </tr>\n",
       "    <tr>\n",
       "      <th>8506</th>\n",
       "      <td>zyne.us.txt</td>\n",
       "      <td>574</td>\n",
       "      <td>0.445026</td>\n",
       "    </tr>\n",
       "  </tbody>\n",
       "</table>\n",
       "<p>8507 rows × 3 columns</p>\n",
       "</div>"
      ],
      "text/plain": [
       "         filename  length  uptrending_rate\n",
       "0     aadr.us.txt    1565         0.521739\n",
       "1     aaxj.us.txt    2325         0.527108\n",
       "2     acim.us.txt    1232         0.529651\n",
       "3     actx.us.txt     272         0.505535\n",
       "4     acwf.us.txt     403         0.509950\n",
       "...           ...     ...              ...\n",
       "8502  zumz.us.txt    3153         0.502855\n",
       "8503   zvv.us.txt       5         0.250000\n",
       "8504    zx.us.txt    1620         0.420012\n",
       "8505  zyme.us.txt     138         0.394161\n",
       "8506  zyne.us.txt     574         0.445026\n",
       "\n",
       "[8507 rows x 3 columns]"
      ]
     },
     "execution_count": 9,
     "metadata": {},
     "output_type": "execute_result"
    }
   ],
   "source": [
    "properties"
   ]
  },
  {
   "cell_type": "code",
   "execution_count": 8,
   "metadata": {},
   "outputs": [],
   "source": [
    "properties[properties.length >= 365].to_csv(\"data\\\\huge_stock_market_dataset\\\\more_year.csv\", index=False)"
   ]
  },
  {
   "cell_type": "code",
   "execution_count": 9,
   "metadata": {},
   "outputs": [
    {
     "name": "stdout",
     "output_type": "stream",
     "text": [
      "24\n"
     ]
    }
   ],
   "source": [
    "np.random.seed(0)\n",
    "length_intervals = [365, 1000, 2000, 3000, 4000, properties.length.max()]\n",
    "uptrending_rate_intervals = [0.1, 0.4, 0.45, 0.5, 0.55, 0.6]\n",
    "\n",
    "selected = []\n",
    "for i in range(len(length_intervals) - 1):\n",
    "    for j in range(len(uptrending_rate_intervals) - 1):\n",
    "        candidats = properties[(length_intervals[i + 1] > properties.length) & (properties.length > length_intervals[i]) &\n",
    "                (uptrending_rate_intervals[j + 1] > properties.uptrending_rate) & (properties.uptrending_rate > uptrending_rate_intervals[j])].index\n",
    "        if len(candidats) > 0:\n",
    "            selected.append(np.random.choice(candidats))\n",
    "selected = properties.iloc[selected]\n",
    "print(len(selected))\n",
    "selected.to_csv(\"data\\\\huge_stock_market_dataset\\\\selected.csv\", index=False)"
   ]
  },
  {
   "cell_type": "code",
   "execution_count": 13,
   "metadata": {},
   "outputs": [
    {
     "data": {
      "text/html": [
       "<div>\n",
       "<style scoped>\n",
       "    .dataframe tbody tr th:only-of-type {\n",
       "        vertical-align: middle;\n",
       "    }\n",
       "\n",
       "    .dataframe tbody tr th {\n",
       "        vertical-align: top;\n",
       "    }\n",
       "\n",
       "    .dataframe thead th {\n",
       "        text-align: right;\n",
       "    }\n",
       "</style>\n",
       "<table border=\"1\" class=\"dataframe\">\n",
       "  <thead>\n",
       "    <tr style=\"text-align: right;\">\n",
       "      <th></th>\n",
       "      <th>filename</th>\n",
       "      <th>length</th>\n",
       "      <th>uptrending_rate</th>\n",
       "    </tr>\n",
       "  </thead>\n",
       "  <tbody>\n",
       "    <tr>\n",
       "      <th>4934</th>\n",
       "      <td>jmpb.us.txt</td>\n",
       "      <td>1156</td>\n",
       "      <td>0.504762</td>\n",
       "    </tr>\n",
       "    <tr>\n",
       "      <th>4627</th>\n",
       "      <td>icl.us.txt</td>\n",
       "      <td>791</td>\n",
       "      <td>0.445570</td>\n",
       "    </tr>\n",
       "    <tr>\n",
       "      <th>2538</th>\n",
       "      <td>cfg.us.txt</td>\n",
       "      <td>791</td>\n",
       "      <td>0.531646</td>\n",
       "    </tr>\n",
       "    <tr>\n",
       "      <th>6165</th>\n",
       "      <td>ogen.us.txt</td>\n",
       "      <td>1156</td>\n",
       "      <td>0.427706</td>\n",
       "    </tr>\n",
       "    <tr>\n",
       "      <th>1238</th>\n",
       "      <td>vig.us.txt</td>\n",
       "      <td>2907</td>\n",
       "      <td>0.538541</td>\n",
       "    </tr>\n",
       "    <tr>\n",
       "      <th>...</th>\n",
       "      <td>...</td>\n",
       "      <td>...</td>\n",
       "      <td>...</td>\n",
       "    </tr>\n",
       "    <tr>\n",
       "      <th>4380</th>\n",
       "      <td>hds.us.txt</td>\n",
       "      <td>1104</td>\n",
       "      <td>0.521306</td>\n",
       "    </tr>\n",
       "    <tr>\n",
       "      <th>4459</th>\n",
       "      <td>hmhc.us.txt</td>\n",
       "      <td>1006</td>\n",
       "      <td>0.486567</td>\n",
       "    </tr>\n",
       "    <tr>\n",
       "      <th>769</th>\n",
       "      <td>mbb.us.txt</td>\n",
       "      <td>2684</td>\n",
       "      <td>0.524786</td>\n",
       "    </tr>\n",
       "    <tr>\n",
       "      <th>931</th>\n",
       "      <td>qld.us.txt</td>\n",
       "      <td>2869</td>\n",
       "      <td>0.554045</td>\n",
       "    </tr>\n",
       "    <tr>\n",
       "      <th>102</th>\n",
       "      <td>chau.us.txt</td>\n",
       "      <td>618</td>\n",
       "      <td>0.508914</td>\n",
       "    </tr>\n",
       "  </tbody>\n",
       "</table>\n",
       "<p>100 rows × 3 columns</p>\n",
       "</div>"
      ],
      "text/plain": [
       "         filename  length  uptrending_rate\n",
       "4934  jmpb.us.txt    1156         0.504762\n",
       "4627   icl.us.txt     791         0.445570\n",
       "2538   cfg.us.txt     791         0.531646\n",
       "6165  ogen.us.txt    1156         0.427706\n",
       "1238   vig.us.txt    2907         0.538541\n",
       "...           ...     ...              ...\n",
       "4380   hds.us.txt    1104         0.521306\n",
       "4459  hmhc.us.txt    1006         0.486567\n",
       "769    mbb.us.txt    2684         0.524786\n",
       "931    qld.us.txt    2869         0.554045\n",
       "102   chau.us.txt     618         0.508914\n",
       "\n",
       "[100 rows x 3 columns]"
      ]
     },
     "execution_count": 13,
     "metadata": {},
     "output_type": "execute_result"
    }
   ],
   "source": [
    "np.random.seed(0)\n",
    "\n",
    "selected = properties[(properties.length > 300) & (properties.length < 3_000)].index\n",
    "selected = np.random.choice(selected, 100)\n",
    "selected = properties.iloc[selected]\n",
    "selected"
   ]
  },
  {
   "cell_type": "code",
   "execution_count": 14,
   "metadata": {},
   "outputs": [],
   "source": [
    "selected.to_csv(\"data\\\\huge_stock_market_dataset\\\\selected100.csv\", index=False)"
   ]
  },
  {
   "cell_type": "markdown",
   "metadata": {},
   "source": [
    "# Solar energy"
   ]
  },
  {
   "cell_type": "code",
   "execution_count": 2,
   "metadata": {},
   "outputs": [],
   "source": [
    "dataset_dir = Path(\"data/solar_energy/\")\n",
    "dfs = list(get_solar_energy_dataset(dataset_dir))"
   ]
  },
  {
   "cell_type": "code",
   "execution_count": 6,
   "metadata": {},
   "outputs": [
    {
     "data": {
      "text/plain": [
       "(105120.0, 137)"
      ]
     },
     "execution_count": 6,
     "metadata": {},
     "output_type": "execute_result"
    }
   ],
   "source": [
    "np.mean(list(map(len, dfs))), len(dfs)"
   ]
  },
  {
   "cell_type": "code",
   "execution_count": 11,
   "metadata": {},
   "outputs": [
    {
     "data": {
      "text/plain": [
       "<AxesSubplot:>"
      ]
     },
     "execution_count": 11,
     "metadata": {},
     "output_type": "execute_result"
    },
    {
     "data": {
      "image/png": "[encoded data removed]",
      "text/plain": [
       "<Figure size 432x288 with 1 Axes>"
      ]
     },
     "metadata": {
      "needs_background": "light"
     },
     "output_type": "display_data"
    }
   ],
   "source": [
    "dfs[0][\"Power(MW)\"].plot()"
   ]
  },
  {
   "cell_type": "code",
   "execution_count": null,
   "metadata": {},
   "outputs": [],
   "source": []
  }
 ],
 "metadata": {
  "kernelspec": {
   "display_name": "Python 3.8.9 64-bit (system)",
   "language": "python",
   "name": "python3"
  },
  "language_info": {
   "codemirror_mode": {
    "name": "ipython",
    "version": 3
   },
   "file_extension": ".py",
   "mimetype": "text/x-python",
   "name": "python",
   "nbconvert_exporter": "python",
   "pygments_lexer": "ipython3",
   "version": "3.8.9"
  },
  "orig_nbformat": 4,
  "vscode": {
   "interpreter": {
    "hash": "1289e797c8b2364a1b561fc46768e8fcf8446b2e18e77ab0795c8743ff6ac10a"
   }
  }
 },
 "nbformat": 4,
 "nbformat_minor": 2
}
