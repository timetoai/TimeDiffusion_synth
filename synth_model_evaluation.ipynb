{
 "cells": [
  {
   "cell_type": "code",
   "execution_count": 1,
   "metadata": {},
   "outputs": [],
   "source": [
    "from pathlib import Path\n",
    "\n",
    "from utils.synth_eval import eval_sim, eval_autoreg_model_real, eval_autoreg_model_synth"
   ]
  },
  {
   "cell_type": "code",
   "execution_count": 2,
   "metadata": {},
   "outputs": [],
   "source": [
    "hsm_dataset_dir = Path(\"data/huge_stock_market_dataset/\")\n",
    "se_dataset_dir = Path(\"data/solar_energy/\")\n",
    "fp_dataset_dir = Path(\"data/fuel_prices/\")\n",
    "ap_dataset_dir = Path(\"data/air_passengers/\")\n",
    "results_dir = Path(\"results\")\n",
    "\n",
    "dataset_names = [\"hsm\", \"se\", \"fp\", \"ap\"]\n",
    "dataset_paths = [hsm_dataset_dir, se_dataset_dir, fp_dataset_dir, ap_dataset_dir]\n",
    "\n",
    "synth_models = [\"QuantGAN\", \"TTS_GAN\", \"RealNVP\", \"FourierFlow\", \"TimeDiffusion\"]\n",
    "autoreg_models = [\"LSTM\", \"TCN\"]"
   ]
  },
  {
   "cell_type": "code",
   "execution_count": 3,
   "metadata": {},
   "outputs": [
    {
     "name": "stdout",
     "output_type": "stream",
     "text": [
      "Handling QuantGAN\n",
      "processing se dataset\n"
     ]
    },
    {
     "name": "stderr",
     "output_type": "stream",
     "text": [
      "30it [00:14,  2.05it/s]\n"
     ]
    },
    {
     "name": "stdout",
     "output_type": "stream",
     "text": [
      "Handling TTS_GAN\n",
      "processing se dataset\n"
     ]
    },
    {
     "name": "stderr",
     "output_type": "stream",
     "text": [
      "30it [00:14,  2.01it/s]\n"
     ]
    },
    {
     "name": "stdout",
     "output_type": "stream",
     "text": [
      "Handling RealNVP\n",
      "processing se dataset\n"
     ]
    },
    {
     "name": "stderr",
     "output_type": "stream",
     "text": [
      "30it [00:12,  2.48it/s]\n"
     ]
    },
    {
     "name": "stdout",
     "output_type": "stream",
     "text": [
      "Handling FourierFlow\n",
      "processing se dataset\n"
     ]
    },
    {
     "name": "stderr",
     "output_type": "stream",
     "text": [
      "30it [00:11,  2.63it/s]\n"
     ]
    },
    {
     "name": "stdout",
     "output_type": "stream",
     "text": [
      "Handling TimeDiffusion\n",
      "processing se dataset\n"
     ]
    },
    {
     "name": "stderr",
     "output_type": "stream",
     "text": [
      "30it [00:03,  8.09it/s]\n"
     ]
    }
   ],
   "source": [
    "for synth_model in synth_models:\n",
    "    print(f\"Handling {synth_model}\")\n",
    "    eval_sim(dataset_names[1:2], dataset_paths[1:2], synth_model, results_dir=results_dir)"
   ]
  },
  {
   "cell_type": "code",
   "execution_count": 4,
   "metadata": {},
   "outputs": [
    {
     "name": "stdout",
     "output_type": "stream",
     "text": [
      "Handling LSTM\n"
     ]
    },
    {
     "name": "stderr",
     "output_type": "stream",
     "text": [
      "0it [00:00, ?it/s]Global seed set to 0\n",
      "1it [00:10, 11.00s/it]Global seed set to 0\n",
      "2it [00:13,  5.90s/it]Global seed set to 0\n",
      "3it [00:16,  4.48s/it]Global seed set to 0\n",
      "4it [00:18,  3.61s/it]Global seed set to 0\n",
      "5it [00:20,  3.09s/it]Global seed set to 0\n",
      "6it [00:22,  2.84s/it]Global seed set to 0\n",
      "7it [00:25,  2.69s/it]Global seed set to 0\n",
      "8it [00:27,  2.56s/it]Global seed set to 0\n",
      "9it [00:29,  2.51s/it]Global seed set to 0\n",
      "10it [00:32,  2.48s/it]Global seed set to 0\n",
      "11it [00:34,  2.42s/it]Global seed set to 0\n",
      "12it [00:37,  2.41s/it]Global seed set to 0\n",
      "13it [00:39,  2.40s/it]Global seed set to 0\n",
      "14it [00:41,  2.36s/it]Global seed set to 0\n",
      "15it [00:44,  2.38s/it]Global seed set to 0\n",
      "16it [00:46,  2.39s/it]Global seed set to 0\n",
      "17it [00:48,  2.35s/it]Global seed set to 0\n",
      "18it [00:51,  2.39s/it]Global seed set to 0\n",
      "19it [00:53,  2.40s/it]Global seed set to 0\n",
      "20it [00:56,  2.37s/it]Global seed set to 0\n",
      "21it [00:58,  2.39s/it]Global seed set to 0\n",
      "22it [01:00,  2.39s/it]Global seed set to 0\n",
      "23it [01:03,  2.36s/it]Global seed set to 0\n",
      "24it [01:05,  2.37s/it]Global seed set to 0\n",
      "25it [01:07,  2.38s/it]Global seed set to 0\n",
      "26it [01:10,  2.36s/it]Global seed set to 0\n",
      "27it [01:12,  2.38s/it]Global seed set to 0\n",
      "28it [01:15,  2.40s/it]Global seed set to 0\n",
      "29it [01:17,  2.37s/it]Global seed set to 0\n",
      "30it [01:19,  2.66s/it]\n"
     ]
    },
    {
     "name": "stdout",
     "output_type": "stream",
     "text": [
      "Handling TCN\n"
     ]
    },
    {
     "name": "stderr",
     "output_type": "stream",
     "text": [
      "0it [00:00, ?it/s]Global seed set to 0\n",
      "1it [00:04,  4.16s/it]Global seed set to 0\n",
      "2it [00:05,  2.57s/it]Global seed set to 0\n",
      "3it [00:07,  2.14s/it]Global seed set to 0\n",
      "4it [00:08,  1.93s/it]Global seed set to 0\n",
      "5it [00:10,  1.77s/it]Global seed set to 0\n",
      "6it [00:11,  1.71s/it]Global seed set to 0\n",
      "7it [00:13,  1.68s/it]Global seed set to 0\n",
      "8it [00:15,  1.61s/it]Global seed set to 0\n",
      "9it [00:16,  1.61s/it]Global seed set to 0\n",
      "10it [00:18,  1.61s/it]Global seed set to 0\n",
      "11it [00:19,  1.57s/it]Global seed set to 0\n",
      "12it [00:21,  1.59s/it]Global seed set to 0\n",
      "13it [00:22,  1.59s/it]Global seed set to 0\n",
      "14it [00:24,  1.55s/it]Global seed set to 0\n",
      "15it [00:25,  1.55s/it]Global seed set to 0\n",
      "16it [00:27,  1.56s/it]Global seed set to 0\n",
      "17it [00:28,  1.53s/it]Global seed set to 0\n",
      "18it [00:30,  1.55s/it]Global seed set to 0\n",
      "19it [00:32,  1.57s/it]Global seed set to 0\n",
      "20it [00:33,  1.54s/it]Global seed set to 0\n",
      "21it [00:35,  1.56s/it]Global seed set to 0\n",
      "22it [00:36,  1.58s/it]Global seed set to 0\n",
      "23it [00:38,  1.55s/it]Global seed set to 0\n",
      "24it [00:40,  1.57s/it]Global seed set to 0\n",
      "25it [00:41,  1.58s/it]Global seed set to 0\n",
      "26it [00:43,  1.54s/it]Global seed set to 0\n",
      "27it [00:44,  1.56s/it]Global seed set to 0\n",
      "28it [00:46,  1.57s/it]Global seed set to 0\n",
      "29it [00:47,  1.54s/it]Global seed set to 0\n",
      "30it [00:49,  1.65s/it]\n"
     ]
    }
   ],
   "source": [
    "for autoreg_model in autoreg_models:\n",
    "    print(f\"Handling {autoreg_model}\")\n",
    "    eval_autoreg_model_real(dataset_names[1:2], dataset_paths[1:2], autoreg_model, results_dir=results_dir)"
   ]
  },
  {
   "cell_type": "code",
   "execution_count": 3,
   "metadata": {},
   "outputs": [
    {
     "name": "stdout",
     "output_type": "stream",
     "text": [
      "Handling TimeDiffusion\n",
      "Handling LSTM\n"
     ]
    },
    {
     "name": "stderr",
     "output_type": "stream",
     "text": [
      "  0%|          | 0/30 [00:00<?, ?it/s]Global seed set to 0\n",
      "Global seed set to 0\n",
      "Global seed set to 0\n",
      "Global seed set to 0\n",
      "  3%|▎         | 1/30 [00:12<06:04, 12.56s/it]Global seed set to 0\n",
      "Global seed set to 0\n",
      "Global seed set to 0\n",
      "Global seed set to 0\n",
      "  7%|▋         | 2/30 [00:16<03:31,  7.56s/it]Global seed set to 0\n",
      "Global seed set to 0\n",
      "Global seed set to 0\n",
      "Global seed set to 0\n",
      " 10%|█         | 3/30 [00:20<02:40,  5.96s/it]Global seed set to 0\n",
      "Global seed set to 0\n",
      "Global seed set to 0\n",
      "Global seed set to 0\n",
      " 13%|█▎        | 4/30 [00:24<02:16,  5.23s/it]Global seed set to 0\n",
      "Global seed set to 0\n",
      "Global seed set to 0\n",
      "Global seed set to 0\n",
      " 17%|█▋        | 5/30 [00:29<02:06,  5.04s/it]Global seed set to 0\n",
      "Global seed set to 0\n",
      "Global seed set to 0\n",
      "Global seed set to 0\n",
      " 20%|██        | 6/30 [00:33<01:53,  4.72s/it]Global seed set to 0\n",
      "Global seed set to 0\n",
      "Global seed set to 0\n",
      "Global seed set to 0\n",
      " 23%|██▎       | 7/30 [00:37<01:44,  4.52s/it]Global seed set to 0\n",
      "Global seed set to 0\n",
      "Global seed set to 0\n",
      "Global seed set to 0\n",
      " 27%|██▋       | 8/30 [00:41<01:36,  4.40s/it]Global seed set to 0\n",
      "Global seed set to 0\n",
      "Global seed set to 0\n",
      "Global seed set to 0\n",
      " 30%|███       | 9/30 [00:45<01:30,  4.32s/it]Global seed set to 0\n",
      "Global seed set to 0\n",
      "Global seed set to 0\n",
      "Global seed set to 0\n",
      " 33%|███▎      | 10/30 [00:50<01:25,  4.26s/it]Global seed set to 0\n",
      "Global seed set to 0\n",
      "Global seed set to 0\n",
      "Global seed set to 0\n",
      " 37%|███▋      | 11/30 [00:54<01:20,  4.26s/it]Global seed set to 0\n",
      "Global seed set to 0\n",
      "Global seed set to 0\n",
      "Global seed set to 0\n",
      " 40%|████      | 12/30 [00:58<01:16,  4.24s/it]Global seed set to 0\n",
      "Global seed set to 0\n",
      "Global seed set to 0\n",
      "Global seed set to 0\n",
      " 43%|████▎     | 13/30 [01:02<01:11,  4.23s/it]Global seed set to 0\n",
      "Global seed set to 0\n",
      "Global seed set to 0\n",
      "Global seed set to 0\n",
      " 47%|████▋     | 14/30 [01:07<01:07,  4.25s/it]Global seed set to 0\n",
      "Global seed set to 0\n",
      "Global seed set to 0\n",
      "Global seed set to 0\n",
      " 50%|█████     | 15/30 [01:11<01:05,  4.39s/it]Global seed set to 0\n",
      "Global seed set to 0\n",
      "Global seed set to 0\n",
      "Global seed set to 0\n",
      " 53%|█████▎    | 16/30 [01:16<01:02,  4.46s/it]Global seed set to 0\n",
      "Global seed set to 0\n",
      "Global seed set to 0\n",
      "Global seed set to 0\n",
      " 57%|█████▋    | 17/30 [01:20<00:57,  4.40s/it]Global seed set to 0\n",
      "Global seed set to 0\n",
      "Global seed set to 0\n",
      "Global seed set to 0\n",
      " 60%|██████    | 18/30 [01:25<00:53,  4.44s/it]Global seed set to 0\n",
      "Global seed set to 0\n",
      "Global seed set to 0\n",
      "Global seed set to 0\n",
      " 63%|██████▎   | 19/30 [01:29<00:49,  4.46s/it]Global seed set to 0\n",
      "Global seed set to 0\n",
      "Global seed set to 0\n",
      "Global seed set to 0\n",
      " 67%|██████▋   | 20/30 [01:34<00:44,  4.49s/it]Global seed set to 0\n",
      "Global seed set to 0\n",
      "Global seed set to 0\n",
      "Global seed set to 0\n",
      " 70%|███████   | 21/30 [01:38<00:40,  4.46s/it]Global seed set to 0\n",
      "Global seed set to 0\n",
      "Global seed set to 0\n",
      "Global seed set to 0\n",
      " 73%|███████▎  | 22/30 [01:43<00:35,  4.45s/it]Global seed set to 0\n",
      "Global seed set to 0\n",
      "Global seed set to 0\n",
      "Global seed set to 0\n",
      " 77%|███████▋  | 23/30 [01:47<00:30,  4.42s/it]Global seed set to 0\n",
      "Global seed set to 0\n",
      "Global seed set to 0\n",
      "Global seed set to 0\n",
      " 80%|████████  | 24/30 [01:52<00:26,  4.50s/it]Global seed set to 0\n",
      "Global seed set to 0\n",
      "Global seed set to 0\n",
      "Global seed set to 0\n",
      " 83%|████████▎ | 25/30 [01:57<00:23,  4.73s/it]Global seed set to 0\n",
      "Global seed set to 0\n",
      "Global seed set to 0\n",
      "Global seed set to 0\n",
      " 87%|████████▋ | 26/30 [02:01<00:18,  4.62s/it]Global seed set to 0\n",
      "Global seed set to 0\n",
      "Global seed set to 0\n",
      "Global seed set to 0\n",
      " 90%|█████████ | 27/30 [02:06<00:13,  4.54s/it]Global seed set to 0\n",
      "Global seed set to 0\n",
      "Global seed set to 0\n",
      "Global seed set to 0\n",
      " 93%|█████████▎| 28/30 [02:10<00:08,  4.49s/it]Global seed set to 0\n",
      "Global seed set to 0\n",
      "Global seed set to 0\n",
      "Global seed set to 0\n",
      " 97%|█████████▋| 29/30 [02:15<00:04,  4.54s/it]Global seed set to 0\n",
      "Global seed set to 0\n",
      "Global seed set to 0\n",
      "Global seed set to 0\n",
      "100%|██████████| 30/30 [02:19<00:00,  4.66s/it]\n"
     ]
    },
    {
     "name": "stdout",
     "output_type": "stream",
     "text": [
      "Handling TCN\n"
     ]
    },
    {
     "name": "stderr",
     "output_type": "stream",
     "text": [
      "  0%|          | 0/30 [00:00<?, ?it/s]Global seed set to 0\n",
      "Global seed set to 0\n",
      "Global seed set to 0\n",
      "Global seed set to 0\n",
      "  3%|▎         | 1/30 [00:09<04:46,  9.88s/it]Global seed set to 0\n",
      "Global seed set to 0\n",
      "Global seed set to 0\n",
      "Global seed set to 0\n",
      "  7%|▋         | 2/30 [00:17<03:58,  8.53s/it]Global seed set to 0\n",
      "Global seed set to 0\n",
      "Global seed set to 0\n",
      "Global seed set to 0\n",
      " 10%|█         | 3/30 [00:23<03:15,  7.25s/it]Global seed set to 0\n",
      "Global seed set to 0\n",
      "Global seed set to 0\n",
      "Global seed set to 0\n",
      " 13%|█▎        | 4/30 [00:27<02:37,  6.06s/it]Global seed set to 0\n",
      "Global seed set to 0\n",
      "Global seed set to 0\n",
      "Global seed set to 0\n",
      " 17%|█▋        | 5/30 [00:33<02:30,  6.03s/it]Global seed set to 0\n",
      "Global seed set to 0\n",
      "Global seed set to 0\n",
      "Global seed set to 0\n",
      " 20%|██        | 6/30 [00:37<02:11,  5.49s/it]Global seed set to 0\n",
      "Global seed set to 0\n",
      "Global seed set to 0\n",
      "Global seed set to 0\n",
      " 23%|██▎       | 7/30 [00:41<01:53,  4.94s/it]Global seed set to 0\n",
      "Global seed set to 0\n",
      "Global seed set to 0\n",
      "Global seed set to 0\n",
      " 27%|██▋       | 8/30 [00:45<01:39,  4.53s/it]Global seed set to 0\n",
      "Global seed set to 0\n",
      "Global seed set to 0\n",
      "Global seed set to 0\n",
      " 30%|███       | 9/30 [00:48<01:29,  4.27s/it]Global seed set to 0\n",
      "Global seed set to 0\n",
      "Global seed set to 0\n",
      "Global seed set to 0\n",
      " 33%|███▎      | 10/30 [00:54<01:31,  4.57s/it]Global seed set to 0\n",
      "Global seed set to 0\n",
      "Global seed set to 0\n",
      "Global seed set to 0\n",
      " 37%|███▋      | 11/30 [00:59<01:33,  4.91s/it]Global seed set to 0\n",
      "Global seed set to 0\n",
      "Global seed set to 0\n",
      "Global seed set to 0\n",
      " 40%|████      | 12/30 [01:04<01:24,  4.72s/it]Global seed set to 0\n",
      "Global seed set to 0\n",
      "Global seed set to 0\n",
      "Global seed set to 0\n",
      " 43%|████▎     | 13/30 [01:08<01:17,  4.57s/it]Global seed set to 0\n",
      "Global seed set to 0\n",
      "Global seed set to 0\n",
      "Global seed set to 0\n",
      " 47%|████▋     | 14/30 [01:12<01:10,  4.38s/it]Global seed set to 0\n",
      "Global seed set to 0\n",
      "Global seed set to 0\n",
      "Global seed set to 0\n",
      " 50%|█████     | 15/30 [01:18<01:12,  4.84s/it]Global seed set to 0\n",
      "Global seed set to 0\n",
      "Global seed set to 0\n",
      "Global seed set to 0\n",
      " 53%|█████▎    | 16/30 [01:24<01:14,  5.33s/it]Global seed set to 0\n",
      "Global seed set to 0\n",
      "Global seed set to 0\n",
      "Global seed set to 0\n",
      " 57%|█████▋    | 17/30 [01:28<01:04,  4.99s/it]Global seed set to 0\n",
      "Global seed set to 0\n",
      "Global seed set to 0\n",
      "Global seed set to 0\n",
      " 60%|██████    | 18/30 [01:32<00:55,  4.65s/it]Global seed set to 0\n",
      "Global seed set to 0\n",
      "Global seed set to 0\n",
      "Global seed set to 0\n",
      " 63%|██████▎   | 19/30 [01:36<00:47,  4.35s/it]Global seed set to 0\n",
      "Global seed set to 0\n",
      "Global seed set to 0\n",
      "Global seed set to 0\n",
      " 67%|██████▋   | 20/30 [01:40<00:41,  4.11s/it]Global seed set to 0\n",
      "Global seed set to 0\n",
      "Global seed set to 0\n",
      "Global seed set to 0\n",
      " 70%|███████   | 21/30 [01:44<00:36,  4.09s/it]Global seed set to 0\n",
      "Global seed set to 0\n",
      "Global seed set to 0\n",
      "Global seed set to 0\n",
      " 73%|███████▎  | 22/30 [01:48<00:33,  4.19s/it]Global seed set to 0\n",
      "Global seed set to 0\n",
      "Global seed set to 0\n",
      "Global seed set to 0\n",
      " 77%|███████▋  | 23/30 [01:52<00:29,  4.23s/it]Global seed set to 0\n",
      "Global seed set to 0\n",
      "Global seed set to 0\n",
      "Global seed set to 0\n",
      " 80%|████████  | 24/30 [01:56<00:25,  4.17s/it]Global seed set to 0\n",
      "Global seed set to 0\n",
      "Global seed set to 0\n",
      "Global seed set to 0\n",
      " 83%|████████▎ | 25/30 [02:01<00:20,  4.18s/it]Global seed set to 0\n",
      "Global seed set to 0\n",
      "Global seed set to 0\n",
      "Global seed set to 0\n",
      " 87%|████████▋ | 26/30 [02:05<00:16,  4.17s/it]Global seed set to 0\n",
      "Global seed set to 0\n",
      "Global seed set to 0\n",
      "Global seed set to 0\n",
      " 90%|█████████ | 27/30 [02:08<00:12,  4.05s/it]Global seed set to 0\n",
      "Global seed set to 0\n",
      "Global seed set to 0\n",
      "Global seed set to 0\n",
      " 93%|█████████▎| 28/30 [02:12<00:08,  4.04s/it]Global seed set to 0\n",
      "Global seed set to 0\n",
      "Global seed set to 0\n",
      "Global seed set to 0\n",
      " 97%|█████████▋| 29/30 [02:16<00:04,  4.00s/it]Global seed set to 0\n",
      "Global seed set to 0\n",
      "Global seed set to 0\n",
      "Global seed set to 0\n",
      "100%|██████████| 30/30 [02:20<00:00,  4.69s/it]\n"
     ]
    }
   ],
   "source": [
    "for synth_model in synth_models[4:]:\n",
    "    print(f\"Handling {synth_model}\")\n",
    "    for autoreg_model in autoreg_models:\n",
    "        print(f\"Handling {autoreg_model}\")\n",
    "        eval_autoreg_model_synth(dataset_names[1:2], dataset_paths[1:2], synth_model, autoreg_model, results_dir=results_dir)"
   ]
  },
  {
   "cell_type": "code",
   "execution_count": null,
   "metadata": {},
   "outputs": [],
   "source": []
  }
 ],
 "metadata": {
  "kernelspec": {
   "display_name": "Python 3.8.9 64-bit",
   "language": "python",
   "name": "python3"
  },
  "language_info": {
   "codemirror_mode": {
    "name": "ipython",
    "version": 3
   },
   "file_extension": ".py",
   "mimetype": "text/x-python",
   "name": "python",
   "nbconvert_exporter": "python",
   "pygments_lexer": "ipython3",
   "version": "3.8.9"
  },
  "orig_nbformat": 4,
  "vscode": {
   "interpreter": {
    "hash": "1289e797c8b2364a1b561fc46768e8fcf8446b2e18e77ab0795c8743ff6ac10a"
   }
  }
 },
 "nbformat": 4,
 "nbformat_minor": 2
}
