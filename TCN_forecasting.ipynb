{
 "cells": [
  {
   "cell_type": "code",
   "execution_count": 1,
   "metadata": {},
   "outputs": [],
   "source": [
    "import numpy as np\n",
    "import pandas as pd\n",
    "\n",
    "from tqdm import tqdm\n",
    "\n",
    "from utils.data import *\n",
    "from utils.metrics import MAPE, WAPE, MAE\n",
    "from utils.dl import *"
   ]
  },
  {
   "cell_type": "code",
   "execution_count": 2,
   "metadata": {},
   "outputs": [],
   "source": [
    "dataset_path = \"data/huge_stock_market_dataset/\""
   ]
  },
  {
   "cell_type": "code",
   "execution_count": 3,
   "metadata": {},
   "outputs": [
    {
     "name": "stdout",
     "output_type": "stream",
     "text": [
      "cuda:0\n"
     ]
    }
   ],
   "source": [
    "device = torch.device('cuda:0' if torch.cuda.is_available() else 'cpu')\n",
    "print(device)\n",
    "\n",
    "lags = 32\n",
    "horizon = 8\n",
    "stride = 1\n",
    "batch_size = 256\n",
    "val_size = 0.0\n",
    "test_size = 0.3\n",
    "drop_last = False\n",
    "features = 1\n",
    "epochs = 200\n",
    "verbose = False\n",
    "\n",
    "model_params = {'num_channels': [128] * 4, 'kernel_size': 2, 'dropout': 0.25, 'output_size': horizon, 'input_size': lags}"
   ]
  },
  {
   "cell_type": "code",
   "execution_count": 5,
   "metadata": {},
   "outputs": [
    {
     "name": "stderr",
     "output_type": "stream",
     "text": [
      "0it [00:00, ?it/s]Global seed set to 0\n",
      "1it [00:04,  4.66s/it]Global seed set to 0\n",
      "2it [00:10,  5.33s/it]Global seed set to 0\n",
      "3it [00:16,  5.62s/it]Global seed set to 0\n",
      "4it [00:20,  5.04s/it]Global seed set to 0\n",
      "5it [00:24,  4.60s/it]Global seed set to 0\n",
      "6it [00:34,  6.57s/it]Global seed set to 0\n",
      "7it [00:42,  6.93s/it]Global seed set to 0\n",
      "8it [00:50,  7.35s/it]Global seed set to 0\n",
      "9it [01:01,  8.30s/it]Global seed set to 0\n",
      "10it [01:09,  8.31s/it]Global seed set to 0\n",
      "11it [01:25, 10.64s/it]Global seed set to 0\n",
      "12it [01:42, 12.54s/it]Global seed set to 0\n",
      "13it [01:58, 13.76s/it]Global seed set to 0\n",
      "14it [02:13, 13.91s/it]Global seed set to 0\n",
      "15it [02:29, 14.54s/it]Global seed set to 0\n",
      "16it [02:47, 15.72s/it]Global seed set to 0\n",
      "17it [03:06, 16.82s/it]Global seed set to 0\n",
      "18it [03:27, 17.90s/it]Global seed set to 0\n",
      "19it [03:46, 18.23s/it]Global seed set to 0\n",
      "20it [04:04, 18.37s/it]Global seed set to 0\n",
      "21it [05:09, 32.28s/it]Global seed set to 0\n",
      "22it [06:26, 45.72s/it]Global seed set to 0\n",
      "23it [07:08, 44.40s/it]Global seed set to 0\n",
      "24it [07:40, 19.17s/it]\n"
     ]
    },
    {
     "data": {
      "text/plain": [
       "[{'train': 0.19787601940333843, 'test': 0.5082648396492004},\n",
       " {'train': 0.3392236332098643, 'test': 0.7079529017210007},\n",
       " {'train': 0.3041059697667758, 'test': 0.6652947664260864},\n",
       " {'train': 0.30083201825618744, 'test': 0.7360950112342834},\n",
       " {'train': 0.2789757028222084, 'test': 0.5395439267158508},\n",
       " {'train': 0.31913799345493316, 'test': 0.8505125641822815},\n",
       " {'train': 0.3152100183069706, 'test': 0.9676997065544128},\n",
       " {'train': 0.29224710166454315, 'test': 0.574544370174408},\n",
       " {'train': 0.3443475902080536, 'test': 0.6906651059786478},\n",
       " {'train': 0.3177557587623596, 'test': 0.8755089044570923},\n",
       " {'train': 0.37008901685476303, 'test': 0.6570601090788841},\n",
       " {'train': 0.3068774398416281, 'test': 0.46979328989982605},\n",
       " {'train': 0.30915280524641275, 'test': 0.5998988822102547},\n",
       " {'train': 0.32610432377883364, 'test': 0.524766594171524},\n",
       " {'train': 0.36166948452591896, 'test': 0.5083873048424721},\n",
       " {'train': 0.367029650343789, 'test': 0.42380300909280777},\n",
       " {'train': 0.3443550235695309, 'test': 0.7821284383535385},\n",
       " {'train': 0.3485545367002487, 'test': 0.5312931835651398},\n",
       " {'train': 0.3665200471878052, 'test': 0.6949272304773331},\n",
       " {'train': 0.3703334861331516, 'test': 0.4610675871372223},\n",
       " {'train': 0.3912786659784615, 'test': 0.20457372601543153},\n",
       " {'train': 0.5210167666276296, 'test': 0.505860569079717},\n",
       " {'train': 0.4427421696876225, 'test': 0.7472381219267845},\n",
       " {'train': 0.33355039258797964, 'test': 0.33430035412311554}]"
      ]
     },
     "execution_count": 5,
     "metadata": {},
     "output_type": "execute_result"
    }
   ],
   "source": [
    "ts_iterator = get_hsm_dataset(dataset_path, selected_files=f\"{dataset_path}/selected.csv\")\n",
    "\n",
    "results = []\n",
    "for time_series in tqdm(ts_iterator):\n",
    "    train_dl, val_dl, test_dl, X_scaler, y_scaler = create_ts_dl(time_series[[\"Close\"]], time_series[\"Close\"], lags=lags, horizon=horizon, stride=stride,\\\n",
    "                                            batch_size=batch_size, device=device, data_preprocess=(\"log_returns\", \"normalize\"),\\\n",
    "                                            val_size=val_size, test_size=test_size, drop_last=drop_last)\n",
    "    \n",
    "    model = Model(seed=0, device=device)\n",
    "    model.set_model(TCN, **model_params)\n",
    "    optim_params = {'params': model.model.parameters(), 'lr': 4e-4}\n",
    "    model.set_optim(torch.optim.AdamW, **optim_params)\n",
    "    model.set_criterion(MAE)\n",
    "\n",
    "    model.train(train_dl, epochs=epochs, print_info=verbose, agg_loss=\"mean\")\n",
    "    results.append({\"train\": model.eval(train_dl, agg_loss=\"mean\"), \"test\": model.eval(test_dl, agg_loss=\"mean\")})\n",
    "\n",
    "    del model, train_dl, val_dl, test_dl\n",
    "    torch.cuda.empty_cache()\n",
    "results"
   ]
  },
  {
   "cell_type": "code",
   "execution_count": 6,
   "metadata": {},
   "outputs": [],
   "source": [
    "pd.DataFrame(results).to_csv(f\"results\\\\pure_TCN_h{horizon}.csv\", index=False)"
   ]
  },
  {
   "cell_type": "markdown",
   "metadata": {},
   "source": [
    "# Augmentation with QuantGAN synthetic data"
   ]
  },
  {
   "cell_type": "code",
   "execution_count": 5,
   "metadata": {},
   "outputs": [],
   "source": [
    "class CombinedDataLoader:\n",
    "    def __init__(self, *dls):\n",
    "        self.dls = dls\n",
    "\n",
    "    def __len__(self):\n",
    "        return sum(map(len, self.dls))\n",
    "    \n",
    "    def __iter__(self):\n",
    "        for dl in self.dls:\n",
    "            for v in dl:\n",
    "                yield v\n",
    "\n",
    "\n",
    "def train_synth(synthetic_path):\n",
    "    ts_iterator = get_hsm_dataset(dataset_path, selected_files=f\"{dataset_path}/selected.csv\")\n",
    "    epochs = 2\n",
    "\n",
    "    results = []\n",
    "    for ts_index, time_series in tqdm(enumerate(ts_iterator)):\n",
    "        synth_time_series = np.load(f\"{synthetic_path}selected{ts_index}.npy\")\n",
    "        scaler = DimUniversalStandardScaler()\n",
    "        synth_time_series = scaler.fit_transform(synth_time_series)\n",
    "        synth_dls = []\n",
    "        for i in range(synth_time_series.shape[0]):\n",
    "            synth_dl, _, _, X_scaler, y_scaler = create_ts_dl(synth_time_series[i].reshape(- 1, 1), synth_time_series[i].flatten(), lags=lags, horizon=horizon, stride=stride,\\\n",
    "                                                batch_size=batch_size, device=device, data_preprocess=(None,),\\\n",
    "                                                val_size=0, test_size=0, drop_last=drop_last)\n",
    "            synth_dls.append(synth_dl)\n",
    "\n",
    "        train_dl, _, test_dl, *_ = create_ts_dl(time_series[[\"Close\"]], time_series[\"Close\"], lags=lags, horizon=horizon, stride=stride,\\\n",
    "                                                data_preprocess=(\"log_returns\", \"normalize\"), device=device,\\\n",
    "                                                val_size=val_size, test_size=test_size, batch_size=batch_size, drop_last=drop_last, scaler=scaler)\n",
    "        \n",
    "        model = Model(seed=0, device=device)\n",
    "        model.set_model(TCN, **model_params)\n",
    "        optim_params = {'params': model.model.parameters(), 'lr': 4e-4}\n",
    "        model.set_optim(torch.optim.AdamW, **optim_params)\n",
    "        model.set_criterion(MAE)\n",
    "\n",
    "        # cdl = CombinedDataLoader(train_dl, *synth_dls)\n",
    "        # only synth data\n",
    "        cdl = CombinedDataLoader(*synth_dls)\n",
    "        model.train(cdl, epochs=epochs, print_info=verbose, agg_loss=\"mean\")\n",
    "        results.append({\"train\": model.eval(train_dl, agg_loss=\"mean\"), \"test\": model.eval(test_dl, agg_loss=\"mean\")})\n",
    "\n",
    "        del model, train_dl, test_dl, cdl\n",
    "        torch.cuda.empty_cache()\n",
    "    return results"
   ]
  },
  {
   "cell_type": "code",
   "execution_count": 8,
   "metadata": {},
   "outputs": [
    {
     "name": "stderr",
     "output_type": "stream",
     "text": [
      "0it [00:00, ?it/s]Global seed set to 0\n",
      "1it [00:27, 27.21s/it]Global seed set to 0\n",
      "2it [01:00, 31.04s/it]Global seed set to 0\n",
      "3it [01:31, 30.93s/it]Global seed set to 0\n",
      "4it [02:06, 32.40s/it]Global seed set to 0\n",
      "5it [02:40, 32.92s/it]Global seed set to 0\n",
      "6it [03:09, 31.79s/it]Global seed set to 0\n",
      "7it [03:42, 32.09s/it]Global seed set to 0\n",
      "8it [04:13, 31.85s/it]Global seed set to 0\n",
      "9it [04:45, 31.78s/it]Global seed set to 0\n",
      "10it [05:17, 31.84s/it]Global seed set to 0\n",
      "11it [05:41, 29.46s/it]Global seed set to 0\n",
      "12it [06:14, 30.46s/it]Global seed set to 0\n",
      "13it [06:46, 30.88s/it]Global seed set to 0\n",
      "14it [07:18, 31.31s/it]Global seed set to 0\n",
      "15it [07:49, 31.32s/it]Global seed set to 0\n",
      "16it [08:21, 31.44s/it]Global seed set to 0\n",
      "17it [08:52, 31.42s/it]Global seed set to 0\n",
      "18it [09:26, 32.03s/it]Global seed set to 0\n",
      "19it [09:58, 32.23s/it]Global seed set to 0\n",
      "20it [10:29, 31.66s/it]Global seed set to 0\n",
      "21it [10:51, 28.91s/it]Global seed set to 0\n",
      "22it [11:27, 31.06s/it]Global seed set to 0\n",
      "23it [12:02, 32.04s/it]Global seed set to 0\n",
      "24it [12:32, 31.35s/it]\n"
     ]
    },
    {
     "data": {
      "text/plain": [
       "[{'train': 0.5435892790555954, 'test': 0.54209965467453},\n",
       " {'train': 0.8270176847775778, 'test': 0.9425464868545532},\n",
       " {'train': 0.7041410207748413, 'test': 0.5689220428466797},\n",
       " {'train': 0.7249805927276611, 'test': 0.6068865656852722},\n",
       " {'train': 0.6058879792690277, 'test': 0.45383521914482117},\n",
       " {'train': 0.7171173453330993, 'test': 0.7689958214759827},\n",
       " {'train': 0.7647099792957306, 'test': 1.0203015506267548},\n",
       " {'train': 0.6623397022485733, 'test': 0.5429511666297913},\n",
       " {'train': 0.7571945428848267, 'test': 0.6169847647349039},\n",
       " {'train': 0.7418684959411621, 'test': 0.7264038622379303},\n",
       " {'train': 0.5365933477878571, 'test': 0.506879135966301},\n",
       " {'train': 0.6224485337734222, 'test': 0.4362354129552841},\n",
       " {'train': 0.6309031173586845, 'test': 0.5949422046542168},\n",
       " {'train': 0.6457414031028748, 'test': 0.43510739008585614},\n",
       " {'train': 0.6705733276903629, 'test': 0.44167160987854004},\n",
       " {'train': 0.6341570748223199, 'test': 0.39226602762937546},\n",
       " {'train': 0.6508426136440701, 'test': 0.7145165875554085},\n",
       " {'train': 0.6743515829245249, 'test': 0.5328141897916794},\n",
       " {'train': 0.6986731555726793, 'test': 0.6126011162996292},\n",
       " {'train': 0.6749291718006134, 'test': 0.41738466173410416},\n",
       " {'train': 0.27179400296881795, 'test': 0.15279420518449374},\n",
       " {'train': 0.6702570246927666, 'test': 0.543247272570928},\n",
       " {'train': 0.7445663103931829, 'test': 0.7015659771859646},\n",
       " {'train': 0.5903529584407806, 'test': 0.366765490600041}]"
      ]
     },
     "execution_count": 8,
     "metadata": {},
     "output_type": "execute_result"
    }
   ],
   "source": [
    "results = train_synth(f\"{dataset_path}synthetic/QuantGAN/\")\n",
    "results"
   ]
  },
  {
   "cell_type": "code",
   "execution_count": 9,
   "metadata": {},
   "outputs": [],
   "source": [
    "pd.DataFrame(results).to_csv(f\"results\\\\QuantGAN_synth_TCN_h{horizon}.csv\", index=False)"
   ]
  },
  {
   "cell_type": "markdown",
   "metadata": {},
   "source": [
    "# Augmentation with FourierFlow synthetic data"
   ]
  },
  {
   "cell_type": "code",
   "execution_count": 6,
   "metadata": {},
   "outputs": [
    {
     "name": "stderr",
     "output_type": "stream",
     "text": [
      "0it [00:00, ?it/s]Global seed set to 0\n",
      "1it [00:33, 33.99s/it]Global seed set to 0\n",
      "2it [00:56, 27.09s/it]Global seed set to 0\n",
      "3it [01:22, 26.56s/it]Global seed set to 0\n",
      "4it [01:39, 22.86s/it]Global seed set to 0\n",
      "5it [02:02, 22.94s/it]Global seed set to 0\n",
      "6it [02:21, 21.72s/it]Global seed set to 0\n",
      "7it [02:42, 21.28s/it]Global seed set to 0\n",
      "8it [03:00, 20.39s/it]Global seed set to 0\n",
      "9it [03:18, 19.70s/it]Global seed set to 0\n",
      "10it [03:36, 19.20s/it]Global seed set to 0\n",
      "11it [03:55, 19.16s/it]Global seed set to 0\n",
      "12it [04:14, 19.05s/it]Global seed set to 0\n",
      "13it [04:34, 19.14s/it]Global seed set to 0\n",
      "14it [04:53, 19.26s/it]Global seed set to 0\n",
      "15it [05:12, 18.99s/it]Global seed set to 0\n",
      "16it [05:30, 18.96s/it]Global seed set to 0\n",
      "17it [05:49, 18.71s/it]Global seed set to 0\n",
      "18it [06:07, 18.72s/it]Global seed set to 0\n",
      "19it [06:26, 18.72s/it]Global seed set to 0\n",
      "20it [06:45, 18.69s/it]Global seed set to 0\n",
      "21it [07:04, 18.88s/it]Global seed set to 0\n",
      "22it [07:23, 18.96s/it]Global seed set to 0\n",
      "23it [07:42, 19.01s/it]Global seed set to 0\n",
      "24it [08:01, 20.06s/it]\n"
     ]
    },
    {
     "data": {
      "text/plain": [
       "[{'train': 0.32322874665260315, 'test': 0.4699210226535797},\n",
       " {'train': 0.3319132129351298, 'test': 0.7136789262294769},\n",
       " {'train': 0.34036607543627423, 'test': 0.5904576182365417},\n",
       " {'train': 0.22319162636995316, 'test': 0.7450160384178162},\n",
       " {'train': 0.20290099829435349, 'test': 0.5193951725959778},\n",
       " {'train': 0.40305753946304324, 'test': 0.7497147023677826},\n",
       " {'train': 0.3647677153348923, 'test': 0.8842186331748962},\n",
       " {'train': 0.32984166592359543, 'test': 0.5407803952693939},\n",
       " {'train': 0.41892513632774353, 'test': 0.5965081652005514},\n",
       " {'train': 0.38653023540973663, 'test': 0.7412186563014984},\n",
       " {'train': 0.43802810087800026, 'test': 0.6042560189962387},\n",
       " {'train': 0.4080450441688299, 'test': 0.42729654908180237},\n",
       " {'train': 0.4139963537454605, 'test': 0.5397778823971748},\n",
       " {'train': 0.4531453847885132, 'test': 0.4462505380312602},\n",
       " {'train': 0.46203041076660156, 'test': 0.4364969730377197},\n",
       " {'train': 0.48413871063126457, 'test': 0.3892286717891693},\n",
       " {'train': 0.48103072577052647, 'test': 0.660130076110363},\n",
       " {'train': 0.45717816551526386, 'test': 0.45416831225156784},\n",
       " {'train': 0.5095969968371921, 'test': 0.5910954624414444},\n",
       " {'train': 0.4683678050835927, 'test': 0.39206375926733017},\n",
       " {'train': 0.32436396181583405, 'test': 0.15701209753751755},\n",
       " {'train': 0.5036034340208227, 'test': 0.3974907318751017},\n",
       " {'train': 0.6142993208609129, 'test': 0.6713059283792973},\n",
       " {'train': 0.40430548588434856, 'test': 0.31003619517598835}]"
      ]
     },
     "execution_count": 6,
     "metadata": {},
     "output_type": "execute_result"
    }
   ],
   "source": [
    "results = train_synth(f\"{dataset_path}synthetic/FourierFlow/\")\n",
    "results"
   ]
  },
  {
   "cell_type": "code",
   "execution_count": 7,
   "metadata": {},
   "outputs": [],
   "source": [
    "pd.DataFrame(results).to_csv(f\"results\\\\FourierFlow_synth_TCN_h{horizon}.csv\", index=False)"
   ]
  },
  {
   "cell_type": "markdown",
   "metadata": {},
   "source": [
    "# Augmentation with RealNVP synthetic data"
   ]
  },
  {
   "cell_type": "code",
   "execution_count": 8,
   "metadata": {},
   "outputs": [
    {
     "name": "stderr",
     "output_type": "stream",
     "text": [
      "0it [00:00, ?it/s]Global seed set to 0\n",
      "1it [00:29, 29.09s/it]Global seed set to 0\n",
      "2it [00:50, 24.59s/it]Global seed set to 0\n",
      "3it [01:13, 23.86s/it]Global seed set to 0\n",
      "4it [01:32, 21.87s/it]Global seed set to 0\n",
      "5it [01:53, 21.78s/it]Global seed set to 0\n",
      "6it [02:13, 21.11s/it]Global seed set to 0\n",
      "7it [02:34, 20.98s/it]Global seed set to 0\n",
      "8it [02:54, 20.58s/it]Global seed set to 0\n",
      "9it [03:13, 20.15s/it]Global seed set to 0\n",
      "10it [03:31, 19.64s/it]Global seed set to 0\n",
      "11it [03:51, 19.76s/it]Global seed set to 0\n",
      "12it [04:11, 19.76s/it]Global seed set to 0\n",
      "13it [04:31, 19.92s/it]Global seed set to 0\n",
      "14it [04:52, 20.09s/it]Global seed set to 0\n",
      "15it [05:12, 19.94s/it]Global seed set to 0\n",
      "16it [05:32, 20.09s/it]Global seed set to 0\n",
      "17it [05:52, 20.03s/it]Global seed set to 0\n",
      "18it [06:12, 20.05s/it]Global seed set to 0\n",
      "19it [06:32, 20.05s/it]Global seed set to 0\n",
      "20it [06:51, 19.78s/it]Global seed set to 0\n",
      "21it [07:10, 19.54s/it]Global seed set to 0\n",
      "22it [07:29, 19.40s/it]Global seed set to 0\n",
      "23it [07:49, 19.38s/it]Global seed set to 0\n",
      "24it [08:09, 20.38s/it]\n"
     ]
    },
    {
     "data": {
      "text/plain": [
       "[{'train': 0.16566815972328186, 'test': 0.558593213558197},\n",
       " {'train': 0.1895222912232081, 'test': 0.8112404942512512},\n",
       " {'train': 0.24506431818008423, 'test': 0.6935093402862549},\n",
       " {'train': 0.15342990309000015, 'test': 0.6970542669296265},\n",
       " {'train': 0.12388695031404495, 'test': 0.48503953218460083},\n",
       " {'train': 0.2757977694272995, 'test': 0.8475994765758514},\n",
       " {'train': 0.24680794402956963, 'test': 0.9749784469604492},\n",
       " {'train': 0.2173885740339756, 'test': 0.5799757540225983},\n",
       " {'train': 0.30886733531951904, 'test': 0.6607522765795389},\n",
       " {'train': 0.2517354302108288, 'test': 0.7541792094707489},\n",
       " {'train': 0.38291193172335625, 'test': 0.6281066685914993},\n",
       " {'train': 0.32825440913438797, 'test': 0.4598536342382431},\n",
       " {'train': 0.34164662659168243, 'test': 0.5808025002479553},\n",
       " {'train': 0.3508010187319347, 'test': 0.4910944600900014},\n",
       " {'train': 0.3867180272936821, 'test': 0.490529365837574},\n",
       " {'train': 0.42101248105367023, 'test': 0.4072386547923088},\n",
       " {'train': 0.3781363070011139, 'test': 0.7436440661549568},\n",
       " {'train': 0.38702284627490574, 'test': 0.505531057715416},\n",
       " {'train': 0.41756703125105965, 'test': 0.6572542041540146},\n",
       " {'train': 0.41626786192258197, 'test': 0.4369470477104187},\n",
       " {'train': 0.4021858172491193, 'test': 0.20777953203235353},\n",
       " {'train': 0.569580923427235, 'test': 0.475101645787557},\n",
       " {'train': 0.5812276256711859, 'test': 0.6886309869587421},\n",
       " {'train': 0.40310316185156503, 'test': 0.32262274410043446}]"
      ]
     },
     "execution_count": 8,
     "metadata": {},
     "output_type": "execute_result"
    }
   ],
   "source": [
    "results = train_synth(f\"{dataset_path}synthetic/RealNVP/\")\n",
    "results"
   ]
  },
  {
   "cell_type": "code",
   "execution_count": 9,
   "metadata": {},
   "outputs": [],
   "source": [
    "pd.DataFrame(results).to_csv(f\"results\\\\RealNVP_synth_TCN_h{horizon}.csv\", index=False)"
   ]
  },
  {
   "cell_type": "markdown",
   "metadata": {},
   "source": [
    "# Augmentation with TTS GAN synthetic data"
   ]
  },
  {
   "cell_type": "code",
   "execution_count": 10,
   "metadata": {},
   "outputs": [
    {
     "name": "stderr",
     "output_type": "stream",
     "text": [
      "0it [00:00, ?it/s]Global seed set to 0\n",
      "1it [00:30, 30.12s/it]Global seed set to 0\n",
      "2it [00:59, 29.45s/it]Global seed set to 0\n",
      "3it [01:27, 28.75s/it]Global seed set to 0\n",
      "4it [01:55, 28.67s/it]Global seed set to 0\n",
      "5it [02:25, 29.16s/it]Global seed set to 0\n",
      "6it [02:54, 28.98s/it]Global seed set to 0\n",
      "7it [03:22, 28.68s/it]Global seed set to 0\n",
      "8it [03:50, 28.55s/it]Global seed set to 0\n",
      "9it [04:18, 28.49s/it]Global seed set to 0\n",
      "10it [04:47, 28.37s/it]Global seed set to 0\n",
      "11it [05:16, 28.64s/it]Global seed set to 0\n",
      "12it [05:46, 29.09s/it]Global seed set to 0\n",
      "13it [06:23, 31.44s/it]Global seed set to 0\n",
      "14it [06:53, 31.23s/it]Global seed set to 0\n",
      "15it [07:22, 30.55s/it]Global seed set to 0\n",
      "16it [07:52, 30.15s/it]Global seed set to 0\n",
      "17it [08:22, 30.16s/it]Global seed set to 0\n",
      "18it [08:55, 31.05s/it]Global seed set to 0\n",
      "19it [09:29, 31.98s/it]Global seed set to 0\n",
      "20it [10:00, 31.78s/it]Global seed set to 0\n",
      "21it [10:35, 32.50s/it]Global seed set to 0\n",
      "22it [11:05, 31.82s/it]Global seed set to 0\n",
      "23it [11:34, 31.13s/it]Global seed set to 0\n",
      "24it [12:04, 30.18s/it]\n"
     ]
    },
    {
     "data": {
      "text/plain": [
       "[{'train': 0.3462240993976593, 'test': 0.34830158948898315},\n",
       " {'train': 0.4757441778977712, 'test': 0.5534115731716156},\n",
       " {'train': 0.1426496903101603, 'test': 0.14766333997249603},\n",
       " {'train': 0.10613445192575455, 'test': 0.08686386793851852},\n",
       " {'train': 0.2390531599521637, 'test': 0.2376752346754074},\n",
       " {'train': 0.782914650440216, 'test': 0.8427335321903229},\n",
       " {'train': 0.5418009459972382, 'test': 0.738556832075119},\n",
       " {'train': 0.7479911893606186, 'test': 0.5918646454811096},\n",
       " {'train': 0.22549615502357484, 'test': 0.18310852845509848},\n",
       " {'train': 0.22109955921769142, 'test': 0.2150406464934349},\n",
       " {'train': 1.0576811954379082, 'test': 1.0008201152086258},\n",
       " {'train': 0.9266853705048561, 'test': 0.676562488079071},\n",
       " {'train': 0.7268260940909386, 'test': 0.6688977181911469},\n",
       " {'train': 0.5281490385532379, 'test': 0.35435275236765545},\n",
       " {'train': 0.8313932195305824, 'test': 0.549739196896553},\n",
       " {'train': 3.2767683929867215, 'test': 3.287171244621277},\n",
       " {'train': 0.7929224703047011, 'test': 0.8757754266262054},\n",
       " {'train': 0.3938162823518117, 'test': 0.30840158462524414},\n",
       " {'train': 0.5305605928103129, 'test': 0.46756284683942795},\n",
       " {'train': 0.998933321899838, 'test': 0.6716452836990356},\n",
       " {'train': 7.143342956900597, 'test': 3.5973867688860213},\n",
       " {'train': 2.9510119105830337, 'test': 2.313462742169698},\n",
       " {'train': 0.7171767040302879, 'test': 0.6735444851219654},\n",
       " {'train': 1.8055076956748963, 'test': 1.1006925106048584}]"
      ]
     },
     "execution_count": 10,
     "metadata": {},
     "output_type": "execute_result"
    }
   ],
   "source": [
    "results = train_synth(f\"{dataset_path}synthetic/TTS_GAN_standard/\")\n",
    "results"
   ]
  },
  {
   "cell_type": "code",
   "execution_count": 11,
   "metadata": {},
   "outputs": [],
   "source": [
    "pd.DataFrame(results).to_csv(f\"results\\\\TTS_GAN_synth_TCN_h{horizon}.csv\", index=False)"
   ]
  },
  {
   "cell_type": "code",
   "execution_count": null,
   "metadata": {},
   "outputs": [],
   "source": []
  }
 ],
 "metadata": {
  "kernelspec": {
   "display_name": "Python 3.8.9 64-bit (system)",
   "language": "python",
   "name": "python3"
  },
  "language_info": {
   "codemirror_mode": {
    "name": "ipython",
    "version": 3
   },
   "file_extension": ".py",
   "mimetype": "text/x-python",
   "name": "python",
   "nbconvert_exporter": "python",
   "pygments_lexer": "ipython3",
   "version": "3.8.9"
  },
  "orig_nbformat": 4,
  "vscode": {
   "interpreter": {
    "hash": "1289e797c8b2364a1b561fc46768e8fcf8446b2e18e77ab0795c8743ff6ac10a"
   }
  }
 },
 "nbformat": 4,
 "nbformat_minor": 2
}
