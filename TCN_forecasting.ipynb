{
 "cells": [
  {
   "cell_type": "code",
   "execution_count": 1,
   "metadata": {},
   "outputs": [],
   "source": [
    "import numpy as np\n",
    "import pandas as pd\n",
    "\n",
    "from tqdm import tqdm\n",
    "\n",
    "from utils.data import *\n",
    "from utils.metrics import MAPE, WAPE, MAE\n",
    "from utils.dl import *"
   ]
  },
  {
   "cell_type": "code",
   "execution_count": 2,
   "metadata": {},
   "outputs": [],
   "source": [
    "dataset_path = \"data/huge_stock_market_dataset/\""
   ]
  },
  {
   "cell_type": "code",
   "execution_count": 3,
   "metadata": {},
   "outputs": [
    {
     "name": "stdout",
     "output_type": "stream",
     "text": [
      "cuda:0\n"
     ]
    }
   ],
   "source": [
    "device = torch.device('cuda:0' if torch.cuda.is_available() else 'cpu')\n",
    "print(device)\n",
    "\n",
    "lags = 32\n",
    "horizon = 8\n",
    "stride = 1\n",
    "batch_size = 256\n",
    "val_size = 0.15\n",
    "test_size = 0.0\n",
    "drop_last = False\n",
    "features = 1\n",
    "epochs = 200\n",
    "verbose = False\n",
    "\n",
    "model_params = {'num_channels': [128] * 4, 'kernel_size': 2, 'dropout': 0.25, 'output_size': horizon, 'input_size': lags}"
   ]
  },
  {
   "cell_type": "code",
   "execution_count": 4,
   "metadata": {},
   "outputs": [
    {
     "name": "stderr",
     "output_type": "stream",
     "text": [
      "0it [00:00, ?it/s]Global seed set to 0\n",
      "1it [00:11, 11.18s/it]Global seed set to 0\n",
      "2it [00:17,  8.08s/it]Global seed set to 0\n",
      "3it [00:23,  7.10s/it]Global seed set to 0\n",
      "4it [00:29,  6.70s/it]Global seed set to 0\n",
      "5it [00:33,  5.76s/it]Global seed set to 0\n",
      "6it [00:45,  7.97s/it]Global seed set to 0\n",
      "7it [00:55,  8.57s/it]Global seed set to 0\n",
      "8it [01:05,  9.20s/it]Global seed set to 0\n",
      "9it [01:18, 10.43s/it]Global seed set to 0\n",
      "10it [01:29, 10.53s/it]Global seed set to 0\n",
      "11it [01:48, 13.18s/it]Global seed set to 0\n",
      "12it [02:07, 14.84s/it]Global seed set to 0\n",
      "13it [02:25, 15.67s/it]Global seed set to 0\n",
      "14it [02:40, 15.70s/it]Global seed set to 0\n",
      "15it [03:00, 16.84s/it]Global seed set to 0\n",
      "16it [03:20, 17.70s/it]Global seed set to 0\n",
      "17it [03:41, 18.92s/it]Global seed set to 0\n",
      "18it [04:03, 19.76s/it]Global seed set to 0\n",
      "19it [04:24, 20.25s/it]Global seed set to 0\n",
      "20it [04:46, 20.66s/it]Global seed set to 0\n",
      "21it [06:01, 36.85s/it]Global seed set to 0\n",
      "22it [07:19, 49.44s/it]Global seed set to 0\n",
      "23it [08:05, 48.26s/it]Global seed set to 0\n",
      "24it [08:42, 21.79s/it]\n"
     ]
    }
   ],
   "source": [
    "ts_iterator = get_hsm_dataset(dataset_path, selected_files=f\"{dataset_path}/selected.csv\")\n",
    "\n",
    "results = []\n",
    "for time_series in tqdm(ts_iterator):\n",
    "    train_dl, val_dl, test_dl, X_scaler, y_scaler = create_ts_dl(time_series[[\"Close\"]], time_series[\"Close\"], lags=lags, horizon=horizon, stride=stride,\\\n",
    "                                            batch_size=batch_size, device=device, data_preprocess=(\"log_returns\", \"normalize\"),\\\n",
    "                                            val_size=val_size, test_size=test_size, drop_last=drop_last)\n",
    "    \n",
    "    model = Model(seed=0, device=device)\n",
    "    model.set_model(TCN, **model_params)\n",
    "    optim_params = {'params': model.model.parameters(), 'lr': 4e-4}\n",
    "    model.set_optim(torch.optim.AdamW, **optim_params)\n",
    "    model.set_criterion(MAE)\n",
    "\n",
    "    model.train(train_dl, epochs=epochs, print_info=verbose, agg_loss=\"mean\")\n",
    "    results.append({\"train\": model.eval(train_dl, agg_loss=\"mean\"), \"val\": model.eval(val_dl, agg_loss=\"mean\")})\n",
    "\n",
    "    del model, train_dl, val_dl, test_dl\n",
    "    torch.cuda.empty_cache()"
   ]
  },
  {
   "cell_type": "code",
   "execution_count": 5,
   "metadata": {},
   "outputs": [
    {
     "data": {
      "text/plain": [
       "[{'train': 0.23674218356609344, 'val': 0.4811241626739502},\n",
       " {'train': 0.2864615321159363, 'val': 0.7573235034942627},\n",
       " {'train': 0.3238765796025594, 'val': 0.5413807034492493},\n",
       " {'train': 0.28117311497529346, 'val': 0.8478381037712097},\n",
       " {'train': 0.3009508475661278, 'val': 0.6109363436698914},\n",
       " {'train': 0.3556194206078847, 'val': 0.649357259273529},\n",
       " {'train': 0.45028582215309143, 'val': 0.9531058073043823},\n",
       " {'train': 0.29769809544086456, 'val': 0.6143671274185181},\n",
       " {'train': 0.3617719958225886, 'val': 0.5915700793266296},\n",
       " {'train': 0.33793150782585146, 'val': 0.7651367783546448},\n",
       " {'train': 0.38597579797108966, 'val': 0.5502511113882065},\n",
       " {'train': 0.345028065972858, 'val': 0.38234348595142365},\n",
       " {'train': 0.34317925572395325, 'val': 0.595600426197052},\n",
       " {'train': 0.36123879812657833, 'val': 0.4556068927049637},\n",
       " {'train': 0.380402010679245, 'val': 0.43131493031978607},\n",
       " {'train': 0.34126788973808286, 'val': 0.39676256477832794},\n",
       " {'train': 0.3816204314882105, 'val': 0.4892752915620804},\n",
       " {'train': 0.36246173219247296, 'val': 0.650231808423996},\n",
       " {'train': 0.3769534880464727, 'val': 0.7480676770210266},\n",
       " {'train': 0.3844227140600031, 'val': 0.444690465927124},\n",
       " {'train': 0.3979850332987936, 'val': 0.1976363275732313},\n",
       " {'train': 0.5305024474859238, 'val': 0.4825269319117069},\n",
       " {'train': 0.4753169041612874, 'val': 0.9591398239135742},\n",
       " {'train': 0.34483761693301956, 'val': 0.2540389373898506}]"
      ]
     },
     "execution_count": 5,
     "metadata": {},
     "output_type": "execute_result"
    }
   ],
   "source": [
    "results"
   ]
  },
  {
   "cell_type": "code",
   "execution_count": 6,
   "metadata": {},
   "outputs": [],
   "source": [
    "pd.DataFrame(results).to_csv(\"results\\\\pure_TCN.csv\", index=False)"
   ]
  },
  {
   "cell_type": "markdown",
   "metadata": {},
   "source": [
    "# Augmentation with QuantGAN synthetic data"
   ]
  },
  {
   "cell_type": "code",
   "execution_count": 4,
   "metadata": {},
   "outputs": [],
   "source": [
    "class CombinedDataLoader:\n",
    "    def __init__(self, *dls):\n",
    "        self.dls = dls\n",
    "\n",
    "    def __len__(self):\n",
    "        return sum(map(len, self.dls))\n",
    "    \n",
    "    def __iter__(self):\n",
    "        for dl in self.dls:\n",
    "            for v in dl:\n",
    "                yield v\n",
    "\n",
    "\n",
    "def train_synth(synthetic_path):\n",
    "    ts_iterator = get_hsm_dataset(dataset_path, selected_files=f\"{dataset_path}/selected.csv\")\n",
    "    epochs = 2\n",
    "\n",
    "    results = []\n",
    "    for ts_index, time_series in tqdm(enumerate(ts_iterator)):\n",
    "        synth_time_series = np.load(f\"{synthetic_path}selected{ts_index}.npy\")\n",
    "        scaler = DimUniversalStandardScaler()\n",
    "        synth_time_series = scaler.fit_transform(synth_time_series)\n",
    "        synth_dls = []\n",
    "        for i in range(synth_time_series.shape[0]):\n",
    "            synth_dl, _, _, X_scaler, y_scaler = create_ts_dl(synth_time_series[i].reshape(- 1, 1), synth_time_series[i].flatten(), lags=lags, horizon=horizon, stride=stride,\\\n",
    "                                                batch_size=batch_size, device=device, data_preprocess=(None,),\\\n",
    "                                                val_size=0, test_size=0, drop_last=drop_last)\n",
    "            synth_dls.append(synth_dl)\n",
    "\n",
    "        train_dl, val_dl, *_ = create_ts_dl(time_series[[\"Close\"]], time_series[\"Close\"], lags=lags, horizon=horizon, stride=stride,\\\n",
    "                                                data_preprocess=(\"log_returns\", \"normalize\"), device=device,\\\n",
    "                                                val_size=val_size, test_size=test_size, batch_size=batch_size, drop_last=drop_last, scaler=scaler)\n",
    "        \n",
    "        model = Model(seed=0, device=device)\n",
    "        model.set_model(TCN, **model_params)\n",
    "        optim_params = {'params': model.model.parameters(), 'lr': 4e-4}\n",
    "        model.set_optim(torch.optim.AdamW, **optim_params)\n",
    "        model.set_criterion(MAE)\n",
    "\n",
    "        # cdl = CombinedDataLoader(train_dl, *synth_dls)\n",
    "        # only synth data\n",
    "        cdl = CombinedDataLoader(*synth_dls)\n",
    "        model.train(cdl, epochs=epochs, print_info=verbose, agg_loss=\"mean\")\n",
    "        results.append({\"train\": model.eval(train_dl, agg_loss=\"mean\"), \"val\": model.eval(val_dl, agg_loss=\"mean\")})\n",
    "\n",
    "        del model, train_dl, val_dl, cdl\n",
    "        torch.cuda.empty_cache()\n",
    "    return results"
   ]
  },
  {
   "cell_type": "code",
   "execution_count": 5,
   "metadata": {},
   "outputs": [
    {
     "name": "stderr",
     "output_type": "stream",
     "text": [
      "0it [00:00, ?it/s]Global seed set to 0\n",
      "1it [00:37, 37.81s/it]Global seed set to 0\n",
      "2it [01:11, 35.44s/it]Global seed set to 0\n",
      "3it [01:43, 33.85s/it]Global seed set to 0\n",
      "4it [02:14, 32.53s/it]Global seed set to 0\n",
      "5it [02:43, 31.32s/it]Global seed set to 0\n",
      "6it [03:12, 30.65s/it]Global seed set to 0\n",
      "7it [03:42, 30.46s/it]Global seed set to 0\n",
      "8it [04:12, 30.41s/it]Global seed set to 0\n",
      "9it [04:43, 30.47s/it]Global seed set to 0\n",
      "10it [05:14, 30.61s/it]Global seed set to 0\n",
      "11it [05:39, 28.89s/it]Global seed set to 0\n",
      "12it [06:10, 29.52s/it]Global seed set to 0\n",
      "13it [06:46, 31.56s/it]Global seed set to 0\n",
      "14it [07:20, 32.34s/it]Global seed set to 0\n",
      "15it [07:58, 33.87s/it]Global seed set to 0\n",
      "16it [08:31, 33.69s/it]Global seed set to 0\n",
      "17it [09:05, 33.78s/it]Global seed set to 0\n",
      "18it [09:40, 34.10s/it]Global seed set to 0\n",
      "19it [10:18, 35.34s/it]Global seed set to 0\n",
      "20it [10:51, 34.76s/it]Global seed set to 0\n",
      "21it [11:23, 33.92s/it]Global seed set to 0\n",
      "22it [11:58, 34.21s/it]Global seed set to 0\n",
      "23it [12:31, 33.80s/it]Global seed set to 0\n",
      "24it [13:04, 32.70s/it]\n"
     ]
    },
    {
     "data": {
      "text/plain": [
       "[{'train': 0.5293527543544769, 'val': 0.43260064721107483},\n",
       " {'train': 0.7554612557093302, 'val': 0.9956327080726624},\n",
       " {'train': 0.7270463903745016, 'val': 0.5240476727485657},\n",
       " {'train': 0.6807130972544352, 'val': 0.7259753346443176},\n",
       " {'train': 0.622183084487915, 'val': 0.48031720519065857},\n",
       " {'train': 0.6886808276176453, 'val': 0.6457710266113281},\n",
       " {'train': 0.9043120741844177, 'val': 1.0736026763916016},\n",
       " {'train': 0.6925832748413085, 'val': 0.602914035320282},\n",
       " {'train': 0.7732862035433451, 'val': 0.557648628950119},\n",
       " {'train': 0.741913092136383, 'val': 0.6322433352470398},\n",
       " {'train': 0.5989659163686964, 'val': 0.43992356956005096},\n",
       " {'train': 0.7045180598894755, 'val': 0.37830910086631775},\n",
       " {'train': 0.6547368698649936, 'val': 0.5777660459280014},\n",
       " {'train': 0.731889121234417, 'val': 0.3968053460121155},\n",
       " {'train': 0.67260362803936, 'val': 0.3693453073501587},\n",
       " {'train': 0.6287688910961151, 'val': 0.38821177184581757},\n",
       " {'train': 0.6732311140407216, 'val': 0.47147688269615173},\n",
       " {'train': 0.6363202414729379, 'val': 0.6146647334098816},\n",
       " {'train': 0.7255147641355341, 'val': 0.6608343422412872},\n",
       " {'train': 0.6916546008803628, 'val': 0.4122866541147232},\n",
       " {'train': 0.3047282946737189, 'val': 0.15282717772892543},\n",
       " {'train': 0.5471144467592239, 'val': 0.403166089206934},\n",
       " {'train': 0.7450735491255055, 'val': 0.9041582345962524},\n",
       " {'train': 0.5844129943533948, 'val': 0.275299534201622}]"
      ]
     },
     "execution_count": 5,
     "metadata": {},
     "output_type": "execute_result"
    }
   ],
   "source": [
    "results = train_synth(f\"{dataset_path}synthetic/QuantGAN/\")\n",
    "results"
   ]
  },
  {
   "cell_type": "code",
   "execution_count": 6,
   "metadata": {},
   "outputs": [],
   "source": [
    "pd.DataFrame(results).to_csv(\"results\\\\QuantGAN_synth_TCN.csv\", index=False)"
   ]
  },
  {
   "cell_type": "markdown",
   "metadata": {},
   "source": [
    "# Augmentation with FourierFlow synthetic data"
   ]
  },
  {
   "cell_type": "code",
   "execution_count": 7,
   "metadata": {},
   "outputs": [
    {
     "name": "stderr",
     "output_type": "stream",
     "text": [
      "0it [00:00, ?it/s]Global seed set to 0\n",
      "1it [00:25, 25.26s/it]Global seed set to 0\n",
      "2it [00:43, 21.21s/it]Global seed set to 0\n",
      "3it [01:01, 19.76s/it]Global seed set to 0\n",
      "4it [01:21, 19.90s/it]Global seed set to 0\n",
      "5it [01:40, 19.49s/it]Global seed set to 0\n",
      "6it [02:01, 19.97s/it]Global seed set to 0\n",
      "7it [02:23, 20.60s/it]Global seed set to 0\n",
      "8it [02:44, 20.85s/it]Global seed set to 0\n",
      "9it [03:03, 20.30s/it]Global seed set to 0\n",
      "10it [03:23, 20.16s/it]Global seed set to 0\n",
      "11it [03:43, 20.02s/it]Global seed set to 0\n",
      "12it [04:02, 19.65s/it]Global seed set to 0\n",
      "13it [04:21, 19.54s/it]Global seed set to 0\n",
      "14it [04:41, 19.63s/it]Global seed set to 0\n",
      "15it [05:01, 19.71s/it]Global seed set to 0\n",
      "16it [05:20, 19.50s/it]Global seed set to 0\n",
      "17it [05:40, 19.60s/it]Global seed set to 0\n",
      "18it [05:59, 19.59s/it]Global seed set to 0\n",
      "19it [06:19, 19.58s/it]Global seed set to 0\n",
      "20it [06:38, 19.45s/it]Global seed set to 0\n",
      "21it [06:58, 19.64s/it]Global seed set to 0\n",
      "22it [07:18, 19.72s/it]Global seed set to 0\n",
      "23it [07:37, 19.53s/it]Global seed set to 0\n",
      "24it [07:57, 19.92s/it]\n"
     ]
    },
    {
     "data": {
      "text/plain": [
       "[{'train': 0.16681548953056335, 'val': 0.4957714080810547},\n",
       " {'train': 0.291112740834554, 'val': 0.7899066209793091},\n",
       " {'train': 0.33505422870318097, 'val': 0.4277529716491699},\n",
       " {'train': 0.3135557174682617, 'val': 0.6883183717727661},\n",
       " {'train': 0.25667545199394226, 'val': 0.5605508089065552},\n",
       " {'train': 0.46882321933905285, 'val': 0.5924941897392273},\n",
       " {'train': 0.640278035402298, 'val': 0.9052080512046814},\n",
       " {'train': 0.37111603617668154, 'val': 0.542952835559845},\n",
       " {'train': 0.5142612854639689, 'val': 0.4652446359395981},\n",
       " {'train': 0.47312082052230836, 'val': 0.5541983842849731},\n",
       " {'train': 0.5057948629061381, 'val': 0.5137885063886642},\n",
       " {'train': 0.45314862661891514, 'val': 0.3324524313211441},\n",
       " {'train': 0.4481763044993083, 'val': 0.5476046055555344},\n",
       " {'train': 0.488831277936697, 'val': 0.36579301953315735},\n",
       " {'train': 0.5050724267959594, 'val': 0.34902144968509674},\n",
       " {'train': 0.4481771469116211, 'val': 0.36557671427726746},\n",
       " {'train': 0.4972009062767029, 'val': 0.42207227647304535},\n",
       " {'train': 0.4815852804617448, 'val': 0.5336135774850845},\n",
       " {'train': 0.5441766868938099, 'val': 0.6549392342567444},\n",
       " {'train': 0.5107439891858534, 'val': 0.35398609936237335},\n",
       " {'train': 0.42654623522570256, 'val': 0.20509441196918488},\n",
       " {'train': 0.40196549110114577, 'val': 0.3039978090673685},\n",
       " {'train': 0.6274267098178035, 'val': 0.822131410241127},\n",
       " {'train': 0.42025481321309743, 'val': 0.23207104206085205}]"
      ]
     },
     "execution_count": 7,
     "metadata": {},
     "output_type": "execute_result"
    }
   ],
   "source": [
    "results = train_synth(f\"{dataset_path}synthetic/FourierFlow/\")\n",
    "results"
   ]
  },
  {
   "cell_type": "code",
   "execution_count": 8,
   "metadata": {},
   "outputs": [],
   "source": [
    "pd.DataFrame(results).to_csv(\"results\\\\FourierFlow_synth_TCN.csv\", index=False)"
   ]
  },
  {
   "cell_type": "markdown",
   "metadata": {},
   "source": [
    "# Augmentation with RealNVP synthetic data"
   ]
  },
  {
   "cell_type": "code",
   "execution_count": 9,
   "metadata": {},
   "outputs": [
    {
     "name": "stderr",
     "output_type": "stream",
     "text": [
      "0it [00:00, ?it/s]Global seed set to 0\n",
      "1it [00:25, 25.98s/it]Global seed set to 0\n",
      "2it [00:44, 21.78s/it]Global seed set to 0\n",
      "3it [01:03, 20.58s/it]Global seed set to 0\n",
      "4it [01:24, 20.74s/it]Global seed set to 0\n",
      "5it [01:43, 20.06s/it]Global seed set to 0\n",
      "6it [02:03, 19.93s/it]Global seed set to 0\n",
      "7it [02:24, 20.34s/it]Global seed set to 0\n",
      "8it [02:44, 20.10s/it]Global seed set to 0\n",
      "9it [03:02, 19.58s/it]Global seed set to 0\n",
      "10it [03:21, 19.40s/it]Global seed set to 0\n",
      "11it [03:41, 19.48s/it]Global seed set to 0\n",
      "12it [04:00, 19.51s/it]Global seed set to 0\n",
      "13it [04:19, 19.28s/it]Global seed set to 0\n",
      "14it [04:38, 19.19s/it]Global seed set to 0\n",
      "15it [04:58, 19.30s/it]Global seed set to 0\n",
      "16it [05:18, 19.65s/it]Global seed set to 0\n",
      "17it [05:39, 19.86s/it]Global seed set to 0\n",
      "18it [05:59, 19.97s/it]Global seed set to 0\n",
      "19it [06:18, 19.62s/it]Global seed set to 0\n",
      "20it [06:37, 19.49s/it]Global seed set to 0\n",
      "21it [06:57, 19.74s/it]Global seed set to 0\n",
      "22it [07:17, 19.82s/it]Global seed set to 0\n",
      "23it [07:38, 20.16s/it]Global seed set to 0\n",
      "24it [07:57, 19.91s/it]\n"
     ]
    },
    {
     "data": {
      "text/plain": [
       "[{'train': 0.08122960105538368, 'val': 0.5808045864105225},\n",
       " {'train': 0.18102737267812094, 'val': 0.7948945760726929},\n",
       " {'train': 0.19302151103814444, 'val': 0.4397704005241394},\n",
       " {'train': 0.051527440547943115, 'val': 0.1737699657678604},\n",
       " {'train': 0.14469077810645103, 'val': 0.5781511664390564},\n",
       " {'train': 0.33037296930948895, 'val': 0.6563948392868042},\n",
       " {'train': 0.5946580827236175, 'val': 0.994230329990387},\n",
       " {'train': 0.2417995512485504, 'val': 0.5914024710655212},\n",
       " {'train': 0.3510037610928218, 'val': 0.5713746249675751},\n",
       " {'train': 0.28789877593517305, 'val': 0.6971303224563599},\n",
       " {'train': 0.4203063448270162, 'val': 0.5339581519365311},\n",
       " {'train': 0.394365582201216, 'val': 0.36583690345287323},\n",
       " {'train': 0.38211973508199054, 'val': 0.5643948167562485},\n",
       " {'train': 0.38391855359077454, 'val': 0.42212314903736115},\n",
       " {'train': 0.44115384817123415, 'val': 0.3940756618976593},\n",
       " {'train': 0.3957314968109131, 'val': 0.38275134563446045},\n",
       " {'train': 0.4479198537089608, 'val': 0.4575332850217819},\n",
       " {'train': 0.430739936503497, 'val': 0.609530970454216},\n",
       " {'train': 0.4623966867273504, 'val': 0.6987831890583038},\n",
       " {'train': 0.4632884345271371, 'val': 0.4096824824810028},\n",
       " {'train': 0.39315077074264226, 'val': 0.19335886623178208},\n",
       " {'train': 0.5819206044077874, 'val': 0.454468984156847},\n",
       " {'train': 0.5506041594173597, 'val': 0.7265080064535141},\n",
       " {'train': 0.4192769723503213, 'val': 0.23867181688547134}]"
      ]
     },
     "execution_count": 9,
     "metadata": {},
     "output_type": "execute_result"
    }
   ],
   "source": [
    "results = train_synth(f\"{dataset_path}synthetic/RealNVP/\")\n",
    "results"
   ]
  },
  {
   "cell_type": "code",
   "execution_count": 10,
   "metadata": {},
   "outputs": [],
   "source": [
    "pd.DataFrame(results).to_csv(\"results\\\\RealNVP_synth_TCN.csv\", index=False)"
   ]
  },
  {
   "cell_type": "markdown",
   "metadata": {},
   "source": [
    "# Augmentation with TTS GAN synthetic data"
   ]
  },
  {
   "cell_type": "code",
   "execution_count": 11,
   "metadata": {},
   "outputs": [
    {
     "name": "stderr",
     "output_type": "stream",
     "text": [
      "0it [00:00, ?it/s]Global seed set to 0\n",
      "1it [00:27, 27.23s/it]Global seed set to 0\n",
      "2it [00:54, 27.43s/it]Global seed set to 0\n",
      "3it [01:21, 27.31s/it]Global seed set to 0\n",
      "4it [01:49, 27.26s/it]Global seed set to 0\n",
      "5it [02:16, 27.33s/it]Global seed set to 0\n",
      "6it [02:43, 27.28s/it]Global seed set to 0\n",
      "7it [03:14, 28.36s/it]Global seed set to 0\n",
      "8it [03:42, 28.31s/it]Global seed set to 0\n",
      "9it [04:10, 28.19s/it]Global seed set to 0\n",
      "10it [04:39, 28.31s/it]Global seed set to 0\n",
      "11it [05:08, 28.71s/it]Global seed set to 0\n",
      "12it [05:36, 28.35s/it]Global seed set to 0\n",
      "13it [06:03, 28.16s/it]Global seed set to 0\n",
      "14it [06:31, 28.10s/it]Global seed set to 0\n",
      "15it [06:59, 27.93s/it]Global seed set to 0\n",
      "16it [07:27, 28.05s/it]Global seed set to 0\n",
      "17it [07:55, 27.99s/it]Global seed set to 0\n",
      "18it [08:25, 28.53s/it]Global seed set to 0\n",
      "19it [08:53, 28.30s/it]Global seed set to 0\n",
      "20it [09:20, 28.14s/it]Global seed set to 0\n",
      "21it [09:50, 28.50s/it]Global seed set to 0\n",
      "22it [10:19, 28.76s/it]Global seed set to 0\n",
      "23it [10:47, 28.42s/it]Global seed set to 0\n",
      "24it [11:17, 28.24s/it]\n"
     ]
    },
    {
     "data": {
      "text/plain": [
       "[{'train': 0.4964756965637207, 'val': 0.47004690766334534},\n",
       " {'train': 0.5562042891979218, 'val': 0.716667115688324},\n",
       " {'train': 0.18289258082707724, 'val': 0.14540649950504303},\n",
       " {'train': 0.1358382230003675, 'val': 0.1441783308982849},\n",
       " {'train': 0.25404946506023407, 'val': 0.25287356972694397},\n",
       " {'train': 0.8872835139433543, 'val': 0.8325582146644592},\n",
       " {'train': 0.7534714996814728, 'val': 0.891320526599884},\n",
       " {'train': 0.9737930059432983, 'val': 0.8468936085700989},\n",
       " {'train': 0.3038840467731158, 'val': 0.21487831324338913},\n",
       " {'train': 0.3607357144355774, 'val': 0.31421157717704773},\n",
       " {'train': 1.1060670481787787, 'val': 0.8076822459697723},\n",
       " {'train': 0.8512726293669807, 'val': 0.4568103104829788},\n",
       " {'train': 0.7585168282190958, 'val': 0.6745723634958267},\n",
       " {'train': 0.7812414392828941, 'val': 0.43341048061847687},\n",
       " {'train': 0.8819457352161407, 'val': 0.48188136518001556},\n",
       " {'train': 0.7720297247171402, 'val': 0.4707847237586975},\n",
       " {'train': 0.8863369497385892, 'val': 0.6276306509971619},\n",
       " {'train': 0.5243035202676599, 'val': 0.5045029819011688},\n",
       " {'train': 2.139340942556208, 'val': 1.9610550999641418},\n",
       " {'train': 0.7148117964917963, 'val': 0.42490674555301666},\n",
       " {'train': 0.40952092173852417, 'val': 0.40952097092356},\n",
       " {'train': 1.326298712193966, 'val': 1.001620464026928},\n",
       " {'train': 2.653259463932203, 'val': 3.1626011729240417},\n",
       " {'train': 1.2838682061747502, 'val': 0.5909221991896629}]"
      ]
     },
     "execution_count": 11,
     "metadata": {},
     "output_type": "execute_result"
    }
   ],
   "source": [
    "results = train_synth(f\"{dataset_path}synthetic/TTS_GAN_standard/\")\n",
    "results"
   ]
  },
  {
   "cell_type": "code",
   "execution_count": 12,
   "metadata": {},
   "outputs": [],
   "source": [
    "pd.DataFrame(results).to_csv(\"results\\\\TTS_GAN_synth_TCN.csv\", index=False)"
   ]
  },
  {
   "cell_type": "code",
   "execution_count": null,
   "metadata": {},
   "outputs": [],
   "source": []
  }
 ],
 "metadata": {
  "kernelspec": {
   "display_name": "Python 3.8.9 64-bit (system)",
   "language": "python",
   "name": "python3"
  },
  "language_info": {
   "codemirror_mode": {
    "name": "ipython",
    "version": 3
   },
   "file_extension": ".py",
   "mimetype": "text/x-python",
   "name": "python",
   "nbconvert_exporter": "python",
   "pygments_lexer": "ipython3",
   "version": "3.8.9"
  },
  "orig_nbformat": 4,
  "vscode": {
   "interpreter": {
    "hash": "1289e797c8b2364a1b561fc46768e8fcf8446b2e18e77ab0795c8743ff6ac10a"
   }
  }
 },
 "nbformat": 4,
 "nbformat_minor": 2
}
